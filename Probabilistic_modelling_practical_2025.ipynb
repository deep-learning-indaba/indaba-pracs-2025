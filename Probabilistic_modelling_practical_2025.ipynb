{
  "cells": [
    {
      "cell_type": "markdown",
      "metadata": {
        "id": "m2s4kN_QPQVe"
      },
      "source": [
        "# Probabilistic Modelling\n",
        "\n",
        "*   List item\n",
        "*   List item\n",
        "\n",
        "\n",
        "\n",
        "<img src=\"https://www.pulsecarshalton.co.uk/wp-content/uploads/2016/08/jk-placeholder-image.jpg\" width=\"60%\" />\n",
        "\n",
        "[Add prac relevant image.]\n",
        "\n",
        "<a href=\"https://colab.research.google.com/github/deep-learning-indaba/indaba-pracs-2025/blob/main/practicals/Generative_practical_2025.ipynb\" target=\"_parent\"><img src=\"https://colab.research.google.com/assets/colab-badge.svg\" alt=\"Open In Colab\"/></a>\n",
        "\n",
        "© Deep Learning Indaba 2025. Apache License 2.0.\n",
        "\n",
        "**Authors:**\n",
        "\n",
        "- Jemma Daniel\n",
        "- Rachel Catzel\n",
        "- Exaucé Luweh Adjim Ngarti\n",
        "- Taneem Ullah Jan\n",
        "- Yessine Khanfir\n",
        "- Mirgahney Mohamed\n",
        "- Kevin Eloff\n",
        "\n",
        "**Introduction:**\n",
        "\n",
        "[Intro to the topic. Probably between 3-5 lines.]\n",
        "\n",
        "**Topics:**\n",
        "\n",
        "Content: [e.g. Reinforcement Learning, Computer Vision etc. Can be more than one.]  \n",
        "Level: [Beginner, Intermediate, Advanced.]\n",
        "\n",
        "\n",
        "**Aims/Learning Objectives:**\n",
        "\n",
        "- Understand probabilistic generative models (explicit likelihood, latent variables).\n",
        "- Learn the VAE-GAN spectrum and their assumptions.\n",
        "- Implement and train a simple GAN and/or VAE.\n",
        "\n",
        "\n",
        "**Prerequisites:**\n",
        "\n",
        "- Joint, marginal, and conditional probability\n",
        "Gaussian distributions\n",
        "- KL divergence\n",
        "- Basic gradient/backprop\n",
        "- Basic linear algebra (vectors, dot products, matrix multiplication)\n",
        "\n",
        "\n",
        "**Outline:**\n",
        "\n",
        "[Points that link to each section. Auto-generate following the instructions [here](https://stackoverflow.com/questions/67458990/how-to-automatically-generate-a-table-of-contents-in-colab-notebook).]\n",
        "\n",
        "**Before you start:**\n",
        "\n",
        "[Tasks just before starting.]\n"
      ]
    },
    {
      "cell_type": "markdown",
      "metadata": {
        "id": "6EqhIg1odqg0"
      },
      "source": [
        "## Installation and Imports"
      ]
    },
    {
      "cell_type": "code",
      "execution_count": null,
      "metadata": {
        "id": "4boGA9rYdt9l",
        "cellView": "form"
      },
      "outputs": [],
      "source": [
        "## Install and import anything required. Capture hides the output from the cell.\n",
        "# @title Install and import required packages. (Run Cell)\n",
        "\n",
        "import subprocess\n",
        "import os\n",
        "\n",
        "# Based on https://stackoverflow.com/questions/67504079/how-to-check-if-an-nvidia-gpu-is-available-on-my-system\n",
        "try:\n",
        "    subprocess.check_output('nvidia-smi')\n",
        "    print(\"a GPU is connected.\")\n",
        "except Exception:\n",
        "    # TPU or CPU\n",
        "    if \"COLAB_TPU_ADDR\" in os.environ and os.environ[\"COLAB_TPU_ADDR\"]:\n",
        "      print(\"A TPU is connected.\")\n",
        "      import jax.tools.colab_tpu\n",
        "      jax.tools.colab_tpu.setup_tpu()\n",
        "    else:\n",
        "      print(\"Only CPU accelerator is connected.\")\n",
        "      # x8 cpu devices - number of (emulated) host devices\n",
        "      os.environ[\"XLA_FLAGS\"] = \"--xla_force_host_platform_device_count=8\"\n",
        "\n",
        "import jax\n",
        "import jax.numpy as jnp\n",
        "from jax import grad, jit, vmap\n",
        "\n",
        "import matplotlib.pyplot as plt\n",
        "import numpy as np\n",
        "\n",
        "# Other requirements\n",
        "from matplotlib.lines import Line2D\n",
        "\n",
        "from ipywidgets import interact"
      ]
    },
    {
      "cell_type": "code",
      "execution_count": null,
      "metadata": {
        "cellView": "form",
        "id": "-9X10jhocGaS"
      },
      "outputs": [],
      "source": [
        "# @title Helper Functions. (Run Cell)"
      ]
    },
    {
      "cell_type": "markdown",
      "metadata": {
        "id": "HBgCiOp_R6-W"
      },
      "source": [
        "## Section 1: What are generative models?"
      ]
    },
    {
      "cell_type": "markdown",
      "source": [
        "### 1.1. Introduction to Probabilistic Models"
      ],
      "metadata": {
        "id": "erZ58SocYI0t"
      }
    },
    {
      "cell_type": "markdown",
      "metadata": {
        "id": "lrV9FivER6-X"
      },
      "source": [
        "This has been discussed in the previous practical, but let us do a quick recap.\n",
        "\n",
        "Let us first go over general probabilistic models. A generative model is a more complex example of the probabilistic models we shall discuss below.\n",
        "\n",
        "> A *probability distribution* is a mathematical function that describes the likelihood of different possible outcomes for a given event.\n",
        "\n",
        "For **discrete variables** (outcomes you can explicitly count), a distribution tells you the probability of each specific outcome. A classic example is a coin flip, where the possible outcomes are heads or tails, each with a probability of 1/2.\n",
        "\n",
        "Another example is rolling a fair six-sided die.\n",
        "\n",
        "**Group task 1:** Discuss with your neighbors what are the possible outcomes when rolling a six-sided die?\n",
        "\n",
        "A **random variable** $X$ allows us to assign numerical values to the possible outcomes of a random event. For example, in the coin flipping example, we could use a binary random variable with $X = 1$ if the coin is heads and $X = 0$ for tails.\n",
        "\n",
        "**Group task 2:** Discuss with your neighbors and write down a random variable to describe rolling the fair six-sided die?"
      ]
    },
    {
      "cell_type": "markdown",
      "metadata": {
        "id": "IZfLaaQAR6-X"
      },
      "source": [
        "#### Answer to group task 1"
      ]
    },
    {
      "cell_type": "markdown",
      "metadata": {
        "id": "GXQuTEoqR6-X"
      },
      "source": [
        "The outcomes are ⚀, ⚁, ⚂, ⚃, ⚄, and ⚅."
      ]
    },
    {
      "cell_type": "markdown",
      "metadata": {
        "id": "G83jEj9gR6-X"
      },
      "source": [
        "#### Answer to group task 2"
      ]
    },
    {
      "cell_type": "markdown",
      "metadata": {
        "id": "sSp0ZFb5R6-X"
      },
      "source": [
        "Note that there are many possible answers, here is one:\n",
        "\n",
        "$$\n",
        "X = \\begin{cases}\n",
        "1 \\text{ if } ⚀ \\\\\n",
        "2 \\text{ if } ⚁ \\\\\n",
        "3 \\text{ if } ⚂ \\\\\n",
        "4 \\text{ if } ⚃ \\\\\n",
        "5 \\text{ if } ⚄ \\\\\n",
        "6 \\text{ if } ⚅ \\\\\n",
        "\\end{cases}\n",
        "$$"
      ]
    },
    {
      "cell_type": "markdown",
      "metadata": {
        "id": "uv3fx4tFR6-X"
      },
      "source": [
        "A **probability distribution** $p(X = x)$ describes the probability that $X$ takes each of its possible values $x$."
      ]
    },
    {
      "cell_type": "markdown",
      "metadata": {
        "id": "hTvwGUO8R6-Y"
      },
      "source": [
        "For **continuous variables** (outcomes that can take any value in a range), a distribution is described by a curve. For instance, imagine you are a farmer selling watermelons. Their masses don't fall into neat categories; they can be 4.5kg, 5kg, or 5.5kg. A continuous distribution curve would tell you the probability of a watermelon's mass falling within a certain range (e.g., between 4kg and 6kg)."
      ]
    },
    {
      "cell_type": "markdown",
      "metadata": {
        "id": "RahJLacqR6-Y"
      },
      "source": [
        "A few key distributions form the building blocks for many models:\n",
        "\n",
        "- **Normal (Gaussian) Distribution:** The classic \"bell curve.\" It's defined by its **mean** (the center of the peak) and **standard deviation** (how spread out the curve is). It's incredibly common in nature and is often a good first guess for continuous data like the weight of watermelons.\n",
        "\n",
        "- **Uniform Distribution:** The simplest case, where all outcomes in a given range are equally likely. A single roll of a fair die follows a discrete uniform distribution.\n",
        "\n",
        "- **Mixture Models:** Many real-world datasets aren't described by a single, simple distribution. A **mixture model**, like the **Gaussian Mixture Model (GMM)**, creates a more flexible and complex distribution by combining several simpler ones. For example, if you charted the heights of a large group of dogs, you might see several peaks in your data corresponding to different breeds. A GMM could model this as a *\"mixture\"* of several different Normal distributions."
      ]
    },
    {
      "cell_type": "markdown",
      "metadata": {
        "id": "sCPezPxgR6-Y"
      },
      "source": [
        "**Group task 3:** Discuss with your neighbors what the probability distribution describing the mass of watermelons may look like?"
      ]
    },
    {
      "cell_type": "markdown",
      "metadata": {
        "id": "s8pgDOPLR6-Y"
      },
      "source": [
        "#### Answer to group task 3"
      ]
    },
    {
      "cell_type": "markdown",
      "metadata": {
        "id": "X3f0jgskR6-Y"
      },
      "source": [
        "The mass of watermelons is a continuous variable. It's likely that most watermelons will have a mass close to the average value of 5kg, with fewer being much heavier or lighter. This pattern is well-described by a **Normal (or Gaussian) distribution**. The plot below gives a rough idea of this distribution.\n"
      ]
    },
    {
      "cell_type": "markdown",
      "source": [
        "![watermelons.png](data:image/png;base64,iVBORw0KGgoAAAANSUhEUgAAA90AAAJOCAYAAACqS2TfAACr3UlEQVR4nOzdB3xUVfbA8ZNOgCQkhE7ovUqx0KQ3lWpDVETFdW3rrh2xgA3bNsva+YsKoiiIVOkIiKBIR3qVHkihpCf/z7nxDZOQQMokb8rv687mTnvvzswjmfPuuef6ZWVlZQkAAAAAAHA5f9dvEgAAAAAAKIJuAAAAAABKCEE3AAAAAAAlhKAbAAAAAIASQtANAAAAAEAJIegGAAAAAKCEEHQDAAAAAFBCCLoBAAAAACghBN0AgFKTlZVldxfcog+egPcJAADXIOgGABi33367NG7c2HFp0qSJtGnTRoYOHSqfffaZpKen53h8jx495Kmnnirw9hctWiRPPvnkJR+n29RtF3U/+UlMTJQnnnhCfv311xyvWS/uQt9jfa36vrdt21Z+/vnnHPfv2rXLfDaff/75Bc+99957zX0ffvjhBff99a9/lV69ehW4H1OnTpXXXntN3N20adPMa/7jjz9KbV962bt3b56P+fHHHx2PcRdpaWnm3/BPP/3ksmM+Li5OunXrJgcPHnRRLwHAuxF0AwAcmjVrJl999ZW5TJo0Sf75z39Kq1atZPz48fLII49IZmam47HvvPOO3H///QXe9qeffipHjhy55ON0m7ptV/v9999lxowZOV7D888/by7uYvny5TJ9+nQZOXKkfPDBB9KyZcsc9zdo0EAqVaok69aty3F7amqqrFmzRipUqGC24Uxf72+//SadOnUqcD/ee+89iY+PL+ar8U7+/v4yb968PO+bM2eOuJv3339fqlatKh07dnTZNiMjI80x+vTTT5MRAQAFQNANAHAoX768XHbZZebSrl07M8o8duxYGT16tPzwww8ya9asHAF6rVq1XN4H3aZuuzRoEKsXd2EFujoyefnll0u5cuUueMxVV11lgmhna9eulXPnzsldd91lAvKzZ8867tuxY4ckJCQUKuhG/jQDYe7cuRfcric+Fi5cKE2bNhV3cfz4cZP5UJiTYwU1fPhwc2wtWLDA5dsGAG9D0A0AuKTbbrtNqlSpIlOmTMk37VsD8oEDB5qRcQ0MH3vsMTl27Ji5T9NZdSRWL5p6u3r1anPRtm6ze/fuJphZuXLlBenlVorsSy+9ZALR9u3bmzT1U6dOOe7PK2XW2r61rxEjRpjb9af12NzPS0lJkXfffVf69etnRpn79Oljghbn0XF9/JgxY8ztmmKrjxs2bJhs3Ljxou9hRkaGyR4YMGCAeY/0uW+++abZp9LXbb2fmgqeXwqwjlhqxoBz1oCmNTdq1Mi8//peOaelazp9QECA+UzUtm3b5MEHHzTXmzdvLl26dDHvbXJysuNzPXTokBlxd07dPnz4sMl2uOKKK6R169Zyxx13yNatWx370cfp4//v//7PvH/6mG+//Vbefvttc12Ds+uuu868X4MGDTInB9avXy833nijeT/0vlWrVuV4rRrUadq8Hht6eeCBBy6Z0qzHkAaEetLoyiuvlEcffTTHe6Vp4npSZ8OGDXLzzTeb/ujx98knn0hBXHPNNbJ9+/YLUsz1M/Dz85Orr746z3R9PZGiJ7P0terrdw7c9fj697//bd77Fi1amJ+aZaKfZUH+feVHP4vq1aubbeZHMyP0fj2mrVFr/WxuvfVW0189TidOnGhGtp3/vQcHB0vfvn1NRgYA4OIIugEABUqp7dChgwksc8/ttkZadb60BqkfffSRGRnXwE8DHqUp3BroWOnrGuxZNJVcg+jnnnvOzGXOiwYoW7ZskVdffdU8dunSpXLPPfeYQLYgdH+6faU/80op14BD5z5//PHHJhDUtFwNFv/zn/9c8Hgd9dc56s8884z861//ktjYWHnooYcu2h/dr6bpa0Ct6dsa1HzxxRdmFFL3rT/vu+8+x3uSX9q7fg7KebR7xYoV0rlzZ6lWrZrUr18/R4r5L7/8YgLL8PBwM/Kp+01KSjLvpX5W1157rZkjrvP2rX1rCnvXrl3NZ1W5cmVzgkNPLOhn8Oyzz5qAUANF3dbu3btz9E+DbP1sXn/9dcfo+tGjR83+9P3973//a+bX/+1vfzNBvL7XeqJD34N//OMfjuBfg1rd58mTJ8388pdfftkE3Lfccou5LS/fffedGe3X90E/Fz0ONYDU4Nr5Odr3v//97yaA1pMnGtBrf3On5udFX1NERMQFKeaaWt67d28JCgrKcbueaNHPXj93DVD1RIsGrBo06/ui9HP48ssvzUmFCRMmmNeoJwH0OCnIv6/8zJw50wTG+dFjQ0/A6IkgPfGiJw3089QAW+l7qMe1vkfah9z038fmzZvzneMOAMgW+OdPAAAuKjo62oy8aQq0tp3pF/IyZcrIX/7yFxNQKJ1fvGnTJhNMaQq3pq4rHT1zpqOS+uX9UnNINQgpW7as47oGKDq6qKOUl6L7ttLI80sp121psSkNNDQQtQIsfV0aKOoIecOGDc3teuJB+2O9Jk3n1pMBOm88r1FFLYD2zTffmCBJ3yNr2xrQajCl+9Yg10rX1xTlmjVr5vlaNKCsU6eOCbq1nzraqSPC1iikbnfJkiU5PhsNbJU+Tretr8fqu46c6+iwZgNo3/TEiH6GUVFRjs9KRzr1c9fAsEaNGuY2HdHVoFW39dZbbzn2179/f7n++utz9FmDfD2JYI0C6/uhgbsG0jfccIO5TdPjNRDXAE77qMF/aGioqQVg9VVPOGjwqidGchfl00BaA1o9+aDbtmhArf3Uz0vfa2Wd5LDeFx0V15F4PZmjI/8XExgYaPqgJ4KskyT6+vQ915MHuYNTPVFw991350jx1vdQR771sfoZagaIHjfW+6bZBPraw8LCCvTvS4Pl3DR4PnHihBkZz4ueQNMsAg3K9XOwtqEnBnS/+h5rH1S9evXMCZDcrJoDmqFQt27di75vAODLGOkGABSIlXqa1xd8TfvWwENThDXg0ZRmDX50FC2vxzsryBxYDUitgFtp+q0GPzpS5yoa+Og2c58A0JRe636L80kEpan3St+D/LatrGDeotc19VsD3sLQ4NMa6dZRbg3INO1e6fuugZ5e9u3bZwIva8RZ79PR9ZCQEBP46mi9jqbqSLbOSc6PBlX6Oenr1BMOetHsBw2irarYl/o8Nfi1WCdtNAXdokGk0lFwpSO5Gnzqa7P2qe+5vs7c+1QarOtr1WPQmZ7I0AwK589POWdVWCcZNPAvSoq5Btx6fGo6e256MkRHtfV1aTq9FvPT0W9lvef6PCstXoNd/Wx0SoemoRf135eVhp/XyRudKqDZCPpvWkfh9bO06Puun6sVcFvvlXWyxZkG55pBURrV4wHAkxF0AwAKREdUNQCygiNn+qVcU1BjYmLMPFJNO9Yv7nktbZWbczCdH013dqZBgo52WwGaK2ixMd2mBsF57fv06dOO25wDEqs/ynnud+5tO2/LokG+7tN52wUNujXo0xF2TYnWoEwDaaWBqqY4a/CkwZkWY7NGrK3RYH2MBvwvvviiGZ23npsfHeXWgFHT9J0vGjxq351PNuT3eTqfpMjvfcy9T03Zzr1PDXA1TT6vx6vcWRjWbbnfYz2Wc3+GBa3ErXOq9XOzUsy1n3qyJvexow4cOGDStfUz0kBaR9ytKRrW/kaNGmWCX02t189HPxsNsK25+UX592W93rzeYw2SdWRdM1dyrxSgJ2AqVqx4wXPyel+t7Z85c+ai7xcA+DrSywEAl6RBgo7G6mhlXoGF0rRcvWgApsGCzhHWeaI6mplfimtB5V6+SudO61rBzsFB7vnUBR21tOg8Xd2mbsf5NVoBngZZRaXbVjoS6zxiqEGP7rOw29aRUQ3YNEVY32udK+0cBOnnpCnJ+hgNsDW4Vxq4abr2uHHjzPxgK33ZSvHOjz5Ot2OlZ+dmpTy7ku5TU9/vvPPOC+6zXo8z62SQzq/PTd/34nx+ee1f3z8NurXgnU4P0Pc1Nz3JoSnhehJEpxdoFoA+V0eydcTbOeDXQFovOvd82bJlpqaAzqfWEXB9fwv778t6vXmdmNKie5pGrvUKdA65BvlWqrguL5bXe6j90jTz3HT7rnxvAcAbMdINALgkLailgYsWeMqLFrrS+aga5GnQp/OsrTm3msqqnFNYC0sDD+cCblrITK9b6bw6imoVpbLknlub38kCiwaVus3cBbK+//57x7zfotJtq9mzZ+e4Xa9rkF/YbWuAqQGcFg7ToD33PGRNPdYRbC0i5rxUmL4nmhqvn5UVcFtzwp1H6XN/Vtp/TaXWebsanFkXDRw1mLzUe1sUuk8NTvV1WvvT0VkNbvNapkr7ppkEzsvaWWnWOkrvnN7uCppirpXgdeRZR4HzKgKon42+b3pSQ/tvnSzQIF1Z77nOl9YAWumJJJ3vrQG4BrQ6ilyQf1+5adVylfvfhXX8aF+0LoIG2VoQ0Pr3pSPymj1hVdVXWqU+rxRyzeDQkwDWvgAAeWOkGwDgoF/wNUCxAgINGnTOsAbdOrdZR/fyS7fV4EPnr1rLVuncVP1yby1VpXM/NQjU+cGFXYdbA34d9dNRRZ2nrMXONJi0KnlrELJ48WJTHVzne2tatQakzqwgU4tl6chzkyZNctyv6boaxGsAooGo3q/zgLVa9JAhQ4q1nrc+V7ehBcc0SNHARoNiTe3VfV6qeFde9LVrgTOrYrkzfW+0wJkGUs5Bt46I/u9//zMj3ppyvn//fjPiqXOLnVPE9bPSQEtfvz5H06M1wNafWh1cRzY1pfrrr782lbRLghYe02BUi33pyR5NgdfjUNfCdi7c5nyiQKuha3+0YJ0eh3r86nusn3deI+bFPSmgQb6+f/q+5DW3WgNozWzQNHwNbvV91YDWqhRvved6POiIsxW86/Gn/550HzrXvCD/vnLTUWkNhvVEi1ZVz4sG8FrgTkfjNe1d32vNmtDPVlPe9bPWwF+PJX1/c79G68SWnuQBAOSPoBsA4KCBli6vpPQLts4H1lTUsWPHOio951foTOeiauBgFXfS0VsNLqy0Xx250+WFtICTBsdaubugtMCUzlHVkTlNtdUljh5//HFHEKCjgDp3VteW1nW/NYjRwMx5ZF4rj+s8WQ2ANPDJPSKq29IASp+no6k6t1WLUGkg54qATStE165d26xdrYG8vn6tiK7BZVGyADTo1sArr4BHT2pogKeBqnNKsAZVGojq56KVtjVg12Jd1mvXAEufp8HWK6+8Yqpua7Cnxcv0fdUiXnos6CioVlB3rj7uanrSQz8rXb9a09p1lFePRe13z54983yOjhDrMauvRY8VzYDQExr6GeaeT19c+plp5W8tTJe7QJ4zPcmh75MGzHrs6gkYLV6n76+eHNITSQ8//LC5T48NfX16gkhPHllLghXk31detH86qu68vnZuum19nO5Xf+rnqgG4LqGm1eT1xIEeN9pnfW+d6bb1pExeRdYAAOf5ZRW0aggAAAA8ho6Y6/JmGqzriaiC0EwUnYNuVcNXejJG59fryQ89UWTVTNATGpr6rvsAAOSPOd0AAABeSJd409R3zawoqC1btphMB8320CX5dP68ppzr6Lvzcmya+aDZI/llHQAAzmOkGwAAwEvpfH2dGqLTMQoy91prOWjldJ3Df+TIEbMEnM4t11R3nR6hdOrF4MGDzZJl1m0AgPwRdAMAAAAAUEJILwcAAAAAoIQQdAMAAAAAUEIIugEAAAAAKCGs0/1n0ZD09HSz5qa15isAAAAAAPnR8mgaSwYGBppYMj8E3SIm4N60aZPd3QAAAAAAeJiWLVtKcHBwvvcTdGuO/Z9nJfTNCggIsLs78CEZGRnmhA/HHnwJxz18Ecc9fBHHPXzlGPe/yCi3IujWddP+TCnXXwb8QoAdOPbgizju4Ys47uGLOO7h7S41RZlCagAAAAAAlBCCbgAAAAAASghBNwAAAAAAJYQ53QAAAAAchaHS0tJcti2VnJzMnG54pKCgIJccuwTdAAAAgI/T9YaPHj0q8fHxLt2mrl+8f//+SxaaAtxVhQoVpGrVqsU6hgm6AQAAAB9nBdyVK1eWsmXLuiRI1qA7KSlJQkNDCbrhcfT4PXfunBw/ftxcr1atWpG3RdANAAAA+DBNA7cC7ooVK7o0aMnMzJQyZcoQdMMj6QkjpYG3/vsoaqo5hdQAAAAAH2bN4dYRbgA5Wf8uilPrgKAbAAAAAKPRQAn9uyDoBgAAAACghBB0AwAAAPC40XNN93377belZ8+e0qJFC+nWrZuMHz9ezpw543hMjx49ZNq0aS7ft+739ttvL9BjU1NT5euvvy7yvrT/+jrymovftm1b+e6773Lc/txzz0njxo1l9erVOW4fOXKkvPzyy5fc38GDB2XZsmXiDt4uxPvsziikBgAAAOACcUlxkpiSWKxCahmZGRKQElCg4Ds8JFwiQyMLvP0333xTfvrpJ3nppZckJibGBIsaVOoSZe+//755zDfffGP7XPXZs2eb/tx0000u3a4W9WrTpo1s3LhRBg8e7Lhdg20t+qU/r7zySnObFrTTx912222X3O7TTz8tV1xxhXTt2tWl/fVlBN0AAAAALqAB9+RNkyUhJaHI20hPTzdrdV9KREiEDG85vFBB9/Tp0+WVV16RDh06mOs1a9aUsWPHyq233uqoNh0VFSV205MPJaV9+/ayaNEix/Vjx47JoUOH5G9/+1uO0eodO3aY5a/atWtXYn1B/kgvBwAAAJAnDbh1xLsol1NJpxyXSz22KIG9jp7//PPPZhTXoiO/OrIcGRl5QXq5pil/8skncuedd0qrVq3khhtuMKPizz77rHlenz59ZM2aNeaxOkqsKdrOnnrqKXPJy9SpU6Vfv34mzV1Hl8eNG2fSv3U7o0ePNoGwbu+PP/4wQfi7774rnTt3NkHzX//6Vzl8+HCOwHnUqFFy2WWXyZAhQ+TAgQP5vgeXX365bNu2zaSwK30/rFT7DRs2mHXSlbYbNmxo3hdNv9c+6ckKfaz2e+HChY7XqO/BO++840jrPnLkiOlj69atzfup9+lrU/reDhs2TB544AET0H///feFep+tEwL6HH1s3759ZdKkSZKfdevWyS233GLeG+3Ll19+6bhP+67TC/7+97+bvupIvXPq/apVq2TQoEHSsmVLMyVhypQpUloIugEAAAB4nBEjRsjnn39ugq/nn39efvjhB0lOTpYGDRpIUFBQns/RYFfTvDVYPH36tAkIo6OjTRq6BqWaql5YGkDq8x555BGZN2+eCbh1ezoCrUGmpmtXrVpVVqxYIdWqVZMvvvhCZs6cKf/85z/lq6++Mmuj33XXXY4lqR5++GFzIkED+XvuuUcmTpyY7741UNWTDxp4Kw3yNTVcX0tYWJj89ttv5vb169c7Us01BX/v3r0yYcIEmTVrlgn8x4wZYwJ3/al91v7ofGo9QfDggw+aPmpmgQa12ncrfd8KhPU913nreiKhMO9zcnKyeY1WwP7kk0/K//73vwvmqavdu3fLHXfcYU406HYfeughee2112TBggWOx2jA3rx5c/O6NLjX40L3rycJNBjXEwxz584177F+Trt27RKvD7pTUlLMQagftH5A+sFfip4d0gMhd2GATz/9VLp06eI4sK2zOgAAAAC8j46uvvHGGyag1YBPU6o1Hvj222/zfU737t2lf//+Jkjs1auXlC9f3jyvfv36Jkjcs2dPofuhc8Y1kNUgT1PcNbBr1qyZ7Ny5U4KDg03wq/OvK1WqZH5+/PHH8sQTT5ggWPf7wgsvSEJCgixfvtw8R4NYDUo1OL3mmmvMyG5+dPsaeG/atMlct+ZxayCuwakVM2nQrdeV/tR9Nm3aVOrUqWMC7Pj4eDl58qTpq56w0NdUoUIFM3Kuo/Avvvii1KtXz2xbA+PPPvvM0Qfd13333Wdei5XOX9D3eebMmSag14BY+6InUHRU3Xn7Fv2M9X3VkxvaF80C0Dnq+n5aNJtAg3id46+BtQb1+p5q4K2vUQN//YwGDhwo//d//2c+E6+f0/3666/L5s2bzdkb/TD1A6xevbo5UPOj8zR0PoIzPaulaQ76j04/NE2X0LZW7gMAAADgnTR40ktcXJwZSdZRZB2t1eBLU6dz04DLUqZMGRN7WEXe9Lo12lwYuh997ltvvWVGTrdv327Sqa1RX2dnz56Vo0ePyj/+8Q/x9z8//qnB4b59+8ygpAa72i+LpkPrCHp+dABTi6RpSrmmpmtFc6Uj3vo8Deh121bQrUXXNJ1cg1gNfrds2WJut1LGc48ua7DqPBdcR+G1v/qeK42/9PUX5X3es2ePGaXXgVOL9kNPTuTVFz3B4Eyf55wmroG7RQN9q66Avqd68uKZZ54xI+l6UuD666+XiIgI8eqgWwNnTZn46KOPTAqAXvQshKYE5Bd0a8qBHqi56ZkQTTXQN09pqsDdd98tjz/+uISGhpb4awEAAABQejRQ0xRka461zlUeMGCAmROsI87W3Obcchd1cw58neVVbT2/onA6Qq2j7hrM6ki7tjUeyYsV2P73v/+VunXr5rhPA0Cdd5y78Fp+qfLOQferr74qv/zyi3nNVvyjQbcOROrIuY4MW6PQOsqut+n8Zg1EdbT35ptvznPb+pr1uRqo5qaj4iokJKTI73N6erqZW16QwdK89qMnAJxPFuT1Xlnvp1VkT0846EVT+/V1lUaVdn87/6Hom+x8VkPPoOgkf+diCBY9k6IHjaZCONM3WdMp9GCz6MR6PXtizW0AAAAA4D00BtD04K1bt16Qbq0jqcWtWm4Fb85rfus017zoQKKOmmqccuONN5oUai1+ZgV7zgF8eHi4GRk+ceKE1K5d21x0nrfGOTrPulGjRmZkWkfKLb///vtF+6rxlO7PeYkwpenpmiauKdwagFuvR+c7//vf/zbp3r179zb7y6/Kup4Y0IxkfT+t/ur7oKP6rliDvW7duuZ168i4tX1Nhde5+nk9VmNFZ3ryIPfJi7zo+60nQnT7mgqvUxCuuuoqWbx4sXj1SLe+cD0jpf8wLJpjrykVmsKQ+x+Knr3RvH09eJwlJiaa5+iSAM5nVjSFQFM3CiOvlAqgJFnHHMcefAnHPXwRxz3cmR6XGnBZF4vVzpLiL3lVkG3k3v/F6NxeHaG8//77zRxfDTxjY2PN6LfGBhpMOr+m3Bfn/Tlft37qXGQN3rVgmI4C63RWDfA1aMu9LR2h1uBPB/x0RPfDDz80sY4WJtP7dTsa2FrB5ciRI+U///mPiXd0FPm9994zBc90HrduS0d+tUaVVvvWAFcD0HLlyuX73uh9GiNpKrlOuXV+nLWkmC6tprfryQQdCZ8/f76JxbRP1qCm1V+9X9PR9f3s1KmT1KhRQx577DGTEq9zo7VfHTt2NK81v+OmoO/zgAEDTJ91pFvnlltrrWvl89zvs47Ka4azFqDTuFCD88mTJ5uU8by279wfPdmhBde0rdvWNHz9vKzjpCDHpf47yf07vKC/020LurXQmXPArazrVsl7iy56v3btWnNWJjedT+D8XOdt5d7OpVgFCIDSxrEHX8RxXzpOnTplvljoSIn+1NEQ/QKlX8Q0w0y/qOWX9gfX47iHu9JBK/1+bmWc6ihmRmaGlA8sL+lB6UXf8MUzox10P7o/7UNBA28NJHVpKq2yrYNtGixqwKrTV/X3mk5n1W1pTKBtfW2aDWvVh9K23mZd12Bd6XV9vgZzGhBq0KvTWLUAmA4O6v3Oz9VprVolW4NznUesc7l1xFv/vev9unyVVbxLC0frElu6HQ00deRZTyDofjQg1sdr0KmFy3R7OgquweaMGTMuqGvlTPehS2/pXHbnx2kGsAbYOpXXul2D+3/961/mdelcaw12Nc1ag1gtSqf9tCp7a1CrQa7W4tL+6HushdE0ANftWYG68z4L+z6/9dZb8uabb5r0fD3poO+zFkjL/T7roKqerNDUfM1y0L5qP7Rgm95vBcC53yfdn2ZY62vWjAJ9fXqiQtPrr7322ou+r9bzi5tF7ZdVkqu1X4SWatcPfOXKlTkmx2uFPk2N0DfVCqqvu+46cyDrHAmlB5Oe5dD0Cf0yof+45syZY1I5LHr2RfP2dU7HpegHpAeZFinIa9I+UFKs6REce/AlHPclR7O/li1bZkZc9KIjJ7o27MXoSMfVV19tRoy0CI/OByQIdz2Oe7gz/b6t6cyaputcECs+OV4Skgu/frYzDaQD/At2zEeUiZAKZbJjAMCd/n1oRoBmOeQuGGf9bteTGxf73W7bSHeVKlXMPG3nggSahqEvRIf/LVqJT9MMdM6BMy0Fr2dDNLDWSfWa/mAF3bpNPXtU2BLw+kbxhxB24NiDL+K4dx09f64rgWiKpVVNNj8aUDvXTtHH6wiKXpSmO+rJbp3WpSMscC2Oe7gjPSZ1ZNu6WCJDI82lOL+bdORaR0ddMf8XsIP176I4v79tC7p1XTgNtnWE2SqCpinkegbY+Qy7loXXlAhnOnqto+Q6x0Afq8/R51qFA3Sbuu0mTZqU8qsCAKB0aZbYvffea+bs5aYnsXXpGL1oKrn+1HmKmmq+dOlSWbJkiRkZ16wxi7Y1m0yndH3wwQdyww03lPIrAuBNbEqqBdyKbUG3nvGyRqp1Psbx48fNHIfx48c7Rr21DL2OfOtQfl4j5Vr5Tw0fPtzMidBqf1pQTbepcwFYLgwA4K00q0vntunfPx1JsujfP62iqwG2FujJK1VcT1br5aGHHjKj3poap0G4XrSSq6apa/CtcxJvv/12M1+ytNYyBQDA29gWdKvRo0ebAFnX2NaiA/rH35qDrQUINAAfOnToJbejE+B1zpp+8dDJ/LoNXaMbAABvpPO1R40aZeZsW2rVqmWq7GpBmcLQoFwL8Ojl4YcflpMnT8pf//pX+eabb8z9WmhHg3FNX9dCQgAAwEMKqbkTq5DapSbAA67GsQdfxHFfdFphVSvKaiVZq0qrzjPTuic67UpPYLuCfjWYNGmSPPDAA2bU26JVYjU7LXchGVwaxz08oVBU7kJqxWVVtda1opnTDW/891HQ3+2UJwUAwAPo+rBa50SXbbECbq00vmrVKpNm7qqAW+mXY12uRdPOnUe3//3vf5s6LDrSDgAACoagGwAAN7dnzx6zLqoWTVPBwcFmDVfnIqIlQVPWFy5caNY21ZVC1JYtW8w+dW1cAABwaQTdAAC4scOHD0vv3r3lyJEj5rqmsG3YsEGeeeYZE3yXNJ3zrWnlGuDrvlVaWpr85S9/ke+++67E9w8AgKcj6AYAwE1pUTMtDqoj3apZs2ayYMECW5bEbN68uaxevdrM81Za9fyWW26RlStXlnpfAADwJATdAAC4odOnT8s111xj0rlVnTp1ZP78+RIdHW1bn3Rk/a233jLzva3iMgMGDDDrfgNAaWvcuLE8+uijF9w+bdo06dGjh7gDXXJRl17Mi57I1NdgXfTEaseOHeWJJ56Q2NjYIr2euXPnmhO2+dHt6PaUtSRkUWlNEWvaU0m+50899VSO96lp06bSqVMnU0D0zJkzhXov//jjjxyPc75o3RKvXDIMAABcSIPZQYMGyZo1a8z1qlWrmrnVNWrUsLtrJt1c53MfO3bMjLrHxcVJv379zJev6tWr2909AD5m1qxZcsMNN0iHDh3EU61YscL8TE9Pl4MHD5qCmbqk8tSpU03ldz0B261bt0tuR5dQ/vvf/y6LFi3K9zG6HKRu0xVGjhwpn332mdSvX7/AfSwqXQ5zzJgxjkyr/fv3mxMuZ8+eNctMF/S9tOj1atWq5diHq96XvDDSDQCAG9H50sOGDZMlS5aY65GRkSa41S817kJHvL/99ltp06aNuX7gwAHzhSghIcHurgHwMXoy8oUXXpDU1FTxVJUqVTIXDQKvuOIK+fDDD+XEiRMyZcoUc78uUxUVFXXJ7RRkJWjdTkks+1jQPhZn+9b7VKVKFfM+6Ui9/n0szHtp0b5aj7Uu5cqVk5JC0A0AgJvQs/d33XWXzJgxw1zXLwCaKqhLg+UnLilO9sfvL9GL7iO3sLAwmTNnjkl7Vxs3bpQhQ4ZISkpKCb5DAJCTjuxq5s3FVlQ4evSoPPzwwyYI09UXNC3ZCtI1LVpPdGq9inbt2sn3339vgjnd3p133mmWatSRdB1ZffbZZ83JRq21YWUiKR1ZHjx4sLRs2dIsq/jII4+YEdii0oBQV6ywAsrcqdu6okTnzp1N37SvO3fuNLf37NnT8VOfo6nj999/v9x6663mtWufndPLrfdGpwxp32+66SbZtm2b4z5Nuda0bYtzP6yfI0aMMPvJ3UdNO7/77rulbdu20qVLF3nnnXfM3zilj9dR6ueff97cr1kKH330UaHfJ10XOygoqFDvpV1ILwcAwA3oCIV+Kfziiy8co8kafF9qSbDElESZvGmyJKSUzChzREiEDG85XCJDIy+4T9Pe582bZ+bW6RxCHZ3XdMNJkyaZNHQAKGk66vm3v/3NzMe97rrrJCYmJsf9GlxrenHt2rXl888/l1OnTpngWekqEGrdunXy17/+1QTLml2kqcfvvvuuvPzyyyalWQNyDbw1ONX0bA16NXDXAF0zffR393PPPWfmEO/bt08ee+wx+frrr03QXlQNGjQw04py0+Dxq6++Mv2rXLmyed2jR482/dJ+33jjjeZno0aNTCCrJwTGjh1rVp+oW7fuBdubPn26PP300zJu3Dj53//+Jw8++KD88MMPJqC9GN2fBssaQOvfAH2ORd/j4cOHmyBc+7J3717zXpcvX978jVD6eH2M7l9f0xtvvGGC47z6mJsG73pyQP/WWCcaivJeliaCbgAA3ICuu60jAUq/7OiXqoJ8mVAacOc1Gl0adCRE51Tql6ukpCSTwqfpnm+++aYt/QHgGhosaSCpRR2Le0LRz8+vQI/VDBr9XagBbmHoaK+OtGqQ/P777+e4b/ny5WYkXIPgiIgIc5u+rvvuu88sh6i0f3rdOe26e/fuZtqM0mBQM3s0uNfH6oiw80oOGlDqbapmzZom+LZGn4tK34u8Rst13raO7moNDb3oCQRrhQsrvds5hVyLb+pKE/nR12YVx9TAW0eldVWKq6+++qL9s/al72nutGz9mxAaGmo+y8DAQDM9SlO89USBFXRXqFBBnnzySfP3btSoUeYEwebNm/MNumfOnOkI7HUalr7vOof88ccfl6K8l3qCxvm41MJrGsSXFIJuAABspoVfdCTCMmHCBJOq6Cmuuuoqc5JA+6xfhP75z3+awNv6QgvA8+jIo3OqcWnut7BBtwZu+jtUR05zj2hqmrNOg7ECbqUpzVpoS0epVcWKFS+Y56zBs0Xv0wDXCtL0ugZ+SretmUnvvfeeCbT1smvXLlMMszi0KreODOd27bXXmowoPSmro9caNF/s/bpUAU5NUbfo/jTo1SD+UkH3xeh7rstMasBtadOmjQm8ExMTHe+v82i6Bu76meRHT+xqBoHS7eb1mRXmvdS53polYQkJCZGSRNANAEAJ0dFnTf++mLNnzsqtt9/qKIDz+DOPS9eBXc1c6ksJ8AuQtIzsL35206XDdITpL3/5i7mu8/U0NV5HfAB4Hl1qSUdRS3ukuyAjl3nRQPr66683o906cnqxYCojIyPHz7we4xwwqvymzOiJCR1J1qBQ53PrSO7EiROluLZv3y4NGza84HYt+KW1PnQ0Wqf06NxzHcX/7rvv8tzOpYLJ3GnkeuI0v3nS1vt1KXntM/PP+dzWNvLax8UKwWlQrlMEXPVe6kkU5xMrJY2gGwCAElKQ+dbz35ovB/Zlj7bUaFZDpLPIe7++V6Dtx4THSM+6BUtBLw333HOPGTnSuY765UmLwulcSU0zBOBZdPS0sCPOuenvgXPnzpmlmAoaeBeHjoTqEobORdV05FbnWcfHx5uUZrV+/XoTVNeqVUt27NhRrH1q7Y3LL7/cZPhYtOhacVac0L7qiL0Wictt6dKlcvjwYTOqr+nVOgdbi6rp69BU8sJyfv06Cq3vVb169RyBsXNati7BVRD6ns+fP99kA1jB9bp160xKuvUZlJaLvZeliSonAACUIGu+dV6XTT9tknUz15nHBYYESue/dZaE1Pwfn/tyqVF0O2iKp1bJtUYXdI4gAJQGLYKmgbfOe7ZokS8trqYj9/o76eeffzZzjXVOb3h4eLH3qUGkbldXcNCCYa+++qps2rSpUEuYadq1Xo4cOSKrVq0yJyx1ySstipbXiLGuPa3Fx/744w8zl11PbGqau3WCU0ffC1o9XedK60i5psRrQTUdTdYpQ0ormmsquwbiWpDNueq50pMpmk6fOxtCM5/09evceU01X7hwoSm4phkBJX3ypTDvZWlipBsAABuknk2VZW8vc1y/cuSVElH9/JxDT6WpijonXVM99UuXzs/UlE8dCQKAkqaj899++60cP37c8TtJq3JroK3FzjRNWYNCrVTuClrEbevWrSatXNOq9XedFlmbPXt2gbehI9VKR4V1VQgt4qaF3fJK09Y0di3oNn78eBNc6qi0vj5rzvrAgQPNqK41/7kg/ddK5Pr+6LxrLehpBcY6vUCLxOkJCg3Adb/Oher0uXoCQDOcmjRp4rhd509//PHHJtVfa31ERUWZCvL33nuvlLTCvJelyS+rIKuoezmdW6BpJlqM4FLl8QFX4tiDL/Kl417nZWuqeF6VxZf+d6nsWJSd1le9VXW59oVrxc+/cCMAdSrUkSFNhsinGz4tserlulTYfe3vk9oVCjeXTr9sWcvxaEGdtWvX2v6lx06+dNzD8yQnJ5tRWk0LLmhxKndMLwdK+99HQX+3k14OAEAp279mvyPgDgoNkq5/61rogNvdaSqnjpqoLVu2yCuvvGJ3lwAAsAVBNwAApSg5MVl+fOdHx/UOozpIWOUw8Taa2qdp5lYFYA26dTQAAABfQ9ANAEApWvHBCkmKTzLtmPYx0rhXY/FWmm43evRo09b1V7WgjbW2LQAAvoKgGwCAUrJ7xW7Zs3yPaYeUD5GrH7jaI+Y5+vsV/evCmDFjzJxua8kYLawGAIAvoXo5AACl4FzcOVnx3grH9U73dpJyFcuJuwsNDBU/8TNF4YrqlbdekSG9h5ilbnQJscu7Xy6NmjbK8ZjwkHBTtA0AAG9D0A0AQAnTCr7L310uKadTzPW6HetK/avriycIDgiWM6lnZPq26WbN8aK6/IbLZfXXq80yYnfcdYfc9p/bxD8gewQ9IiRChrccTtAN2ExPjAFw/b8Lgm4AAErYvlX7TMVyVSaijHS+r7NHpJU704C7OMuSNb+xuWxbuU0SDiXIkW1HZPlXy6XVkFYu7SOAogkODhZ/f385fPiwVKpUyVx3xe8oPeGYkpJitu1pv/OArKwsc6JY10PXY1j/XRQVQTcAwCdpAJmYklhi2w/wC5C0jDTJSM+QNZ+vcdyuAXdoRKj4msCQQOn6UFf5fvT3Ilkiv0z6RWpdUUsq1Khgd9cAn6cBha5BfOTIERN4uzJo0eKJupoBQTc8la4zX6tWLfPvpKgIugEAPkkD7smbJhcrZfpiYsJjpGfdnrJx7kYzuquqNqsqdTvUFV+lr7/FdS1k88zNkpGaIas/XS19x/S1u1sA/hzt1sBCVxrIyMhwyTZ1O9u2bZMGDRpIQECAS7YJlCY9bnXpy+KeNCLoBgD4rOKmTF+MzlM+e+asrPx8peO2K0de6fOjPZfffrnsWblHzp06J/tX75dj245JZBvmcgPuQH8/6ai0XlzBCt7LlClD0A2fxpJhAACUkE/f/1TOxp11FE+r0qSK+LqgMkHSblg7x/U1n60xKagAAHgrgm4AAErAmbgzMuHdCabt5+9nRniRrXGvxhJRPcK0j2w+Int/3Wt3lwAAKDEE3QAAlIDFExfLubPnTLtJnyYUDHPiH+gv7W9t77j+44QfWaoIAOC1CLoBAHCxhMMJsmbGmvPp1LecT6dGtnqd6knFehVN+9iuYzL7u9l2dwkAgBJB0A0AgIv98sUvkpmRPXJ7+Q2XS9nIsnZ3ye1oyv0VI65wXP/XK/8ySwsBAOBtCLoBAHCh4zuPy54Ve0y7YnRFueLG84ElcqrZpqZUa1HNtPfu3iv/93//Z3eXAABwOYJuAABcRKtw69rTlvsevU9CyobY2id3X57IebR73Lhxcu5c9jx4AAC8BUE3AAAucvC3g3Jk0xHTrlijotw04ia7u+T2dBm1hh0bmvbhw4flnXfesbtLAAC4FEE3AAAuoHO413yaXTxN9flLHwkKCrK1T56iy8guZtRbvfrqqxIfH293lwAAcBmCbgAAXGDX0l1yav8p067UsJK06NbC7i55jEp1K8mQm4eYdlxcnLzxxht2dwkAAJch6AYAoJjSU9Pll0m/OK5fOfJKx8gtCuYfo//hyAz4z3/+I0ePHrW7SwAAuARBNwAAxbRl9hY5G3vWtGPax0j1ltXt7pLHiakVI/fdd59pazG1l156ye4uAQDgEgTdAAAUc5R74/SN2Vf8RK4ccaXdXfJYY8aMkXLlypn2Bx98IHv2ZC+9BgCAJyPoBgCgmHO5k+KTTLtex3oSVSfK7i55rMqVK8sjjzxi2unp6fLcc8/Z3SUAAIqNoBsAgCLKysySDdM3OK63GtrK1v54g0cffVQqVqxo2l9++SWj3QAAj0fQDQBAEe1fs18SDiWYdrWW1aRyw8p2d8njRUREyN///nfTzszMNEXVAADwZATdAAAUQVZWlqz/dr3jeuuhrW3tjzfRgmqhoaGmPWHCBDl1KnspNgAAPBFBNwAARXDs92NyfPtx046sHSkxbWPs7pLX0PTyu+66y7TPnj1riqoBAOCpCLoBACiCDdM25BjlZl1u1/rHP/7heE/feustSUlJsbtLAAAUCUE3AACFFHcwzsznVuWiy0mDLg3s7pLXqV+/vgwZMsS0jx49KpMnT7a7SwAAFAlBNwAAheRYl1tEWg5sKf6B/DktCY899pij/c9//tPMowcAwNPwLQEAgEI4e/Ks7Fy607SDywVLkz5N7O6S1+rQoYN07NjRtLds2SI//PCD3V0CAMCzgm6dn/X0009L+/btpXPnzqZCaX6+//576du3r7Rq1UqGDRsmGzeeH2VQuo3GjRvnuGjxFQAAXGnzrM2SmZ5p2s36N5PgssF2d8lnRrvffPNNW/sCAEBRBIqNXn/9ddm8ebNMnDhRDh8+LE8++aRUr15d+vXrl+Nxv/76q4wZM0Zeeukladu2rZnXdc8998jixYulXLlycuzYMTl9+rQsXLhQypQp43he2bJlbXhVAABvlXouVbbO3WramlLeYkALu7vk9QYOHCgNGjSQXbt2yaJFi2T9+vVy2WWX2d0tAADcf6T73LlzMnXqVBNMN2/eXHr37i2jRo2SSZMmXfDYEydOyP333y+DBg2SmJgYeeCBByQ+Pl52795t7teflSpVMvfpT+tCJVkAgCv9/sPvknYuzbQb9WgkZSM5uVvSAgICTCVz57ndAAB4EtuC7m3btkl6erq0adPGcVu7du1kw4YNkpmZnbZn6d+/v9x3332mnZycLJ9++qlZw1Mrmyo9+123bt1SfgUAAF+SkZYhm2Zsyr7iJ9JqcCu7u+QzRo4caf7uqylTpsjBgwft7hIAAO4fdOvodWRkpAQHn58LFx0dbeZ56yh2XlatWmWC9HfeecfMBdfUcmukOykpSW6//XYzN1xTz/fu3VtqrwUA4P12/bhLzp06Z9p1rqwjFWpWsLtLPkOni2nGm9IT9rpuNwAAnsK2Od0aJDsH3Mq6npqamudzGjZsKNOmTZMlS5bIU089JTVr1jTzuvbs2SMJCQnyyCOPSPny5eWjjz4yZ8Vnz55trhdURkZGMV8VUDjWMcexB1/iLsd9ZlamSJYUaBmqrMysHMuEtRrSqmDPMzso2D6Kyiv2kZX9eVzsmPjrX/9qasHoyfkPP/zQnHwPDw8XT+Euxz1Qmjju4e0yCnhs2xZ0h4SEXBBcW9edi6E505FwvTRt2tSkoWuKmQbdn3zyiaSlpTlGvrW6adeuXU1wPmDAgAL3adOmP9MGgVLGsQdfZOdxHxQUJFJB5FTcKYk9G3vJxx/dcFTiDsSZdsWGFSWgUoDEnrz486L8o8yobHxCvMSevvQ+isJb9iHlxBRE3XJwi/l7nh+dbvbdd99JYmKivPDCC3LbbbeJp+H3PXwRxz18nW1Bd5UqVSQuLs78IQ8MDHSknGvAnfvMtS4PpoVUtOCaRedzW4XUdITcedRcA3odBdeq5oXRsmVLsx+gNM+O6R8ijj34Enc57g8kHpCoyCiRvM/z5rBq4SpHu91N7SS6YvQlnxMREWH+vlWIqCCZwTlrlbiKt+wjKjRKwsLCpFaNWhd93IsvvmiCbvXtt9/K+PHjs0+geAB3Oe6B0sRxD185xt026NbRav0jrkt/6Brbau3ateYfpb9/zqnm33zzjRw6dMiMaFu2bNkizZo1M6luWvlc53oNHTrUURl9//79Uq9evUL1SX8Z8AsBduDYgy+y+7j39/M3BdEutdJF7O5YObrlqGnrPO7al9cu8OoYfmYHl95HcXjFPvyyP49LHQ8tWrSQ6667TmbNmmWKqemUs+HDh4snsfu4B+zAcQ9fZ1shtdDQUBk8eLCMHTvWjGTrGtsTJkyQESNGOEa9tVK5uvnmm+Xnn38263nv27fPFFDR5+i8bf0C0K1bN3n77bdl9erVsnPnTnniiSekatWqJsUcAIDiLhNm0XW5/fxZjtJOjz32mKOt08lKci47AAAeHXSr0aNHm5TxO+64Q8aNGycPPfSQ9OnTx9ynVcjnzJlj2voYrViuI94DBw6UZcuWmVFvTVFXjz/+uPTt21ceffRRufHGG03KuhZZ4YwaAKA4Us+lys6lO007KDRIGnRtYHeXfN7VV1/tyJBbt26d+U4AAIA7sy293Brtfu2118wlt+3bt+e43r17d3PJi87h1mrmegEAwFV2Ld0l6cnppq0Bd3DZnKtuoPRphpuuVmKllb///vsm4w0AAHdl60g3AADuStOWt87d6rjerH8zW/uD87SGi65monRe9/Hjx+3uEgAA+SLoBgAgD8e3H5dT+0+ZdpUmVaRi3Yp2dwlOGW533nmnaesSY59++qndXQIAIF8E3QAA5MF5lLtpv6a29gUX+stf/uJoax2XzMySWc4MAIDiIugGACCX5MRk2bNij2mHlA+Rep0KtwQlSl6DBg2kZ8+epr17925ZsmSJ3V0CACBPBN0AAOSyY/EOyUjLMO1GPRtJYIitdUeRj3vvvdfR/uCDD2ztCwAA+SHoBgAgVwG13+edX5u7aV9Sy93VoEGDpHLlyqY9ffp0OXbsmN1dAgDgAgTdAAA4ObzxsCQcTjDt6i2rS4WaFezuEvIRHBwsd911l2mnp6fL//3f/9ndJQAALkDQDQCAE+dRbpYJc3/33HOPo/3RRx9RUA0A4HYIugEA+NO5U+dk7897TTu0QqjUvrK23V3CJdSrV0969+5t2nv27JGFCxfa3SUAAHIg6AYA4E/bFm6TrIws027cu7EEBAXY3SUUAAXVAADujKAbAAARyczIlG0/bMu+4ifStA8F1DzFwIEDpWrVqqY9Y8YMOXLkiN1dAgDAgaAbAAAR+eO3P+TMiTOmHdMuRsKqhNndJRRQUFCQo6BaRkaGTJgwwe4uAQDgQNANAICIbJ231dFu1o8Cap5YUM3Pz8+0KagGAHAnBN0AAJ93+vhpOfDrAdMuF13OjHSjdPn7Fe8rSZ06daRv376mvX//fpk/f76LegYAQPEEFvP5AAB4vG3zt4lk10+Tpn2bin8A56RLU2hgqPiJn+yP31+s7Qy5bYjMmzfPtP/9zr+l6VUXzssPDwmXyNDIYu0HAIDCIOgGAPi0zPTM7KBb66f5+0mT3k3s7pLPCQ4IljOpZ2T6tumSkJJQ5O1kRmdK+Yrl5czJM7Jg7gJ5fd7rEhZ9fm5+REiEDG85nKAbAFCqCLoBAD5t3+p9khSfZNp1rqojZaPK2t0ln6UBd1xSXLG20ahXI/ntq98kKzNL1sxcI22HtXVZ/wAAKAry5wAAPm37ou2OtqaWw7Pp+uq65Jv6ff7vZik4AADsRNANAPBZmoasS4Wp8pXKS43WNezuEooprHKYoxDe2dizjs8XAAC7EHQDAHzWlsVbTBqyati9oZnTDc/nnLGgo90AANiJoBsA4JOysrJk8/zNjusadMM71GpfyzE3X5eCS05MtrtLAAAfRtANAPBJWzZukdh9saZdpUkVqVCjgt1dgovokm8Nu2WfRMnKyJJdP+6yu0sAAB9G0A0A8EnffPmNo92oRyNb+wLXc85c2Ll4p619AQD4NoJuAIDPSU1NlRlTZ5h2QFCA1Otcz+4uwcWiakdJdP1o0z6x64TEHSjeUmQAABQVQTcAwOfMmTNH4k5lB2G1r6otIeVD7O4SSoBzBsOOJTts7QsAwHcRdAMAfM7EiRMdbVLLvVf9LvXFLyC7Iv2upbtYsxsAYAuCbgCAT4mNjZXZs2ebdvmo8lLzspp2dwklJLRC6Pk1u0+elQMbDtjdJQCADyLoBgD4lC+//FLS0tJMu1mvZqbSNbyXcyaD8xJxAACUFr5pAAB8yqeffupot+jdwta+oOTVvry2BJcLNu0dK3fImdNn7O4SAMDHEHQDAHzG5s2b5bfffjPtlpe1lEp1KtndJZQwrU6vc7tVWnKazJs1z+4uAQB8DEE3AMAnC6jdcMsNtvYF9qSYf/vlt7b2BQDgewi6AQA+IT09Xb744gvTDgoKkoE3DLS7SygllRtXlojqEaa9avkq2b9/v91dAgD4EIJuAIBPmD9/vhw9etS0r7vuOomMirS7Syglfn5+0rB7Q8f1SZMm2dofAIBvIegGAPhcavkdd9xha19Q+pyDbj0WsrKybO0PAMB3EHQDALxeXFyczJgxw7Sjo6Olf//+dncJpSyscpjUal3LtHfs2CFr1qyxu0sAAB9B0A0A8Hpff/21pKSkmPatt94qwcHZS0jBtzTv1dzR/uyzz2ztCwDAdxB0AwC8HqnlUI2vbixlQsuY9pQpUxwnYgAAKEkE3QAAr7Z9+3ZZtWqVabds2VIuu+wyu7sEm4SUDZF+1/Uz7VOnTsns2bPt7hIAwAcQdAMAvJpzGrGOcmsla/iu62+53tEmxRwAUBoIugEAXiszM9OxNndAQICZzw3f1vHqjlK9enXT1pHu2NhYu7sEAPByBN0AAK/1008/yYEDB0y7T58+UrVqVbu7BJvpyZfbbrvNtNPT0+XLL7+0u0sAAC9H0A0A8FrOAdUtt9xia1/gPkaMGOFok2IOAChpBN0AAK+UlpZmlgpTZcqUkcGDB9vdJbiJ5s2bS7t27Uz7119/lW3bttndJQCAFyPoBgB4pUWLFjnm6w4YMEDCwsLs7hLciJVibi0fBgBASSHoBgB4JVLLcTE33XSTo5K9HitZWVl2dwkA4KUIugEAXicpKUmmT59u2hEREdK/f3+7uwQ3oxXMu3btato7duyQdevW2d0lAICXIugGAHgdXQrq9OnTpj106FAzpxvIzTkDgirmAICSQtANAPA6pJajIK6//noJDAw07a+++sqs6w4AgKsRdAMAvEpCQoIZ6VaVK1eW7t27290luKmKFSua9dvVwYMHzbruAAB4VdCdkpIiTz/9tLRv3146d+4sEyZMyPex33//vfTt21datWolw4YNk40bN+a4f9asWdKrVy9p3bq1PPDAA3Lq1KlSeAUAAHfz3Xffmb8v6uabb3aMZAJ5IcUcAODVQffrr78umzdvlokTJ8rzzz8v77zzjsybN++Cx+kammPGjJH777/fjF60adNG7rnnHjl79qy5XwNwvf/BBx806WGJiYkyevRoG14RAMBukydPdrRJLcelDBo0yDHnf+rUqZKenm53lwAAXsa2oPvcuXPmj5sGy82bN5fevXvLqFGjZNKkSRc89sSJEybg1j+MMTExZiQ7Pj5edu/ebe7/4osvTGXawYMHS5MmTUwwv2zZMpMqBgDwHcePHzfrc6s6derIVVddZXeX4OZ0/fbrrrvO8X1j8eLFdncJAOBlbAu6t23bZs4m66i1pV27drJhw4YLCploQH3fffeZdnJysnz66admHlb9+vXNbfocTVG3VKtWzSwForcDAHyHnszNyMgwbZ2KZK3DDFwMKeYAgJJk20Q3PZscGRkpwcHBjtuio6PNPDwdxY6KirrgOatWrZK77rpLsrKy5M0335Ry5co5Rja0WI4zDcqPHj1aqD5ZX9SA0mIdcxx78CUledw7p5brfO6L7SMzK1MkS8zflJKSZXbAPtxlH7p9/dxzHxdaM0ZHvHWZuWnTppnpbq5eZo7f9/BFHPfwdhkFPLZtC7qTkpJyBNzKup6amprncxo2bGj+GC5ZskSeeuopqVmzplx22WVm9DuvbeW3nfxs2rSp0K8DcAWOPfgiVx/3R44ccVSfrlevnvlDuH79+jwfGxQUJFJB5FTcKYk9GyslIco/ymR0xSfES+xp9mH3PoxyIufOnpMdR3dIWlpajru6desmM2fONHVhPvzwQ+nZs2eRd6MZe/l9EeP3PXwRxz18nW1Bd0hIyAVBsXU9v7PLOhKul6ZNm5rU8SlTppigO79thYaGFqpPLVu2lICAgEK/FqCo9EuZ/iHi2IMvKanjfv78+Y72yJEjzd+HizmQeECiIqNEXDug6RAREWEqp1eIqCCZwSWz/jP7KJwaYTUkPCxc0sulS5lcH/zQ24eaoFst+nGRDB45uMj7iQiJMBdn/L6HL+K4h68c424bdFepUkXi4uLMmW1rORdNOdeAOzw8PMdjtTq5/kPVgmsWnc9tFVLTbcXG5jwzrtcrVapUqD7pPviFADtw7MEXufq419UrLMOHD7/ktv39/EX8pETnffuZHbAPd9lHcGCwnE09K9O3TZeElIQc92WEZUhoRKgkJSTJD3N/kLdXvC3BoTmz6ApCg+3hLYdLVNkLp8kpft/DF3Hcw9fZFnTraLUG25r6ZxVBW7t2rTkT5u+fs77bN998I4cOHZJPPvnEcduWLVukWbNmpq1rc+tzhw4d6kgx1IveDgDwflu3bnUUz7zyyisdhTaBvGjAHZcUd8HtdTrUkd/n/S7pKemyful6aditoS39AwB4F9uql2vqty7xNXbsWDOSvXDhQpkwYYKMGDHCMeqtc7WtYjg///yzWc9737598tZbb5nnaPqgVXV0xowZpmqtVkV/4oknzNwsXV4MAOD9nCtOszY3iqrB1Q0c7d0/ZmfTAQDgsUG3Gj16tEkZv+OOO2TcuHHy0EMPSZ8+fcx9nTt3ljlz5pi2PkYrieqI98CBA80a3DrqrWnlSpcde+GFF+Tdd981X7Z0btj48ePtfGkAgFKi1a6toFszpW666Sa7uwQPVbVZVSlXMXtllIPrDkry6eyT/wAAeGR6uTXa/dprr5lLbtu3b89xvXv37uaSH00tt9LLAQC+49dff3XU+NAsp2rVqtndJXgoP38/qde5nmyasUmyMrJk7097pWnfpnZ3CwDg4Wwd6QYAwJVrc2sBNaA4SDEHALgaQTcAwKOX6rCqluva22Q8obiiG0RLeLXsVVQObz4sZ0+etbtLAAAPR9ANAPBYy5cvN6tVqP79+0tkZKTdXYKH0yXL6nf5s/p9lsielXvs7hIAwMMRdAMAPNbXX3/taA8bNszWvsB7kGIOAHAlgm4AgMemln/77bemXaZMGRkwYIDdXYKXiKwVKVF1okz7+I7jkng00e4uAQA8GEE3AMAj/fjjj3L8+HHTvuaaa6R8+fJ2dwneOtq9nNFuAEDREXQDADw+tZy1ueFqunSYhXndAIDiIOgGAHic9PR0mTZtmiO1/Nprr7W7S/Ay4VXDpVKDSqZ9cs9JSTicYHeXAAAeiqAbAODRqeUacJNajpJQt1NdR5vRbgBAURF0AwA8jnNq+Y033mhrX+C96nUixRwAUHwE3QAAj00tDw0NJbUcJYYUcwCAKwS6ZCsAALhQXFKcJKbkvUzTymUr5cSJE6bdvU93OZl+Uk7GnyzU9gP8AiQtI80lfYX3p5if2HXCMdrd5sY2dncJAOBhCLoBAG5HA+7JmyZLQsqFI4s/fPSDox3YMlDe+/W9Qm8/JjxGetbtWex+wjdSzNdMXGPaBN0AgKIg6AYAuCUNuHXE21lmRqZsW77NtAOCA6Riq4oXPKYgIkIiXNZP+EaKuY52a4p54pFECa8Wbne3AAAehDndAACPcXjTYUlOTDbtWu1rSVCZILu7BB9AFXMAQHEQdAMAPIZzwFO/c31b+wLfrGK+e8VuW/sCAPA8BN0AAI+gqeX7Vu0z7cCQQIlpH2N3l+BDKebRDaJN20oxBwCgoAi6AQAegdRy2Ik1uwEARUXQDQDwCHtWnA906nU+HwABpYGgGwBQVATdAAC3l5meKXtX7XWklutIN2BXinns7lhSzAEABUbQDQDwiNTylNMppl3r8lom8AZKG6PdAICiIOgGALg95wCH1HLYhaAbAFAUBN0AAM9KLW9HajnsQYo5AKAoCLoBAJ6TWn4FqeWwF6PdAIDCIugGALi13St2O9r1O9W3tS8AQTcAoLAIugEAbp1avu/nfaYdWCZQYtrF2N0l+DhSzAEAhUXQDQBwW4c2HnKklte+vDap5XALjHYDAAqDoBsA4BlVy50CHcBOBN0AgMIg6AYAuKWM9AxSy+EZKeZHSTEHAOSPoBsA4JYObjx4vmp5e6qWw70w2g0AKCiCbgCAW9q+fLujXa8jqeVw46B7BUE3ACB/BN0AALeTkZEhO1bsMO2A4ABSy+F2SDEHABQUQTcAwO388vMvci7+nGnHtI2RoNAgu7sEXKBuh7qO9t5Ve23tCwDAfRF0AwDczrzv5znaVC2Hu6rb0Sno/omgGwCQN4JuAIBbyczMlLkz55q2f6C/1Lq8lt1dAvJUoUYFiaodZdrHtx+XM7Fn7O4SAMANEXQDANzK6tWr5diRY6Zds01NCS4bbHeXgHzV7XR+tHvfquwl7gAAcEbQDQBwK998842jTdVyeFKKOUuHAQDyQtANAHAbWVlZ8u2335q2f4C/1L6ytt1dAi4qMiZSKtSsYNpHfz8qZ06RYg4AyImgGwDgNtauXSv79+837dptaktI+RC7uwRclJ+f3/nR7iyRnSt32t0lAICbIegGALhlannjLo1t7QtQlBTz7cu329oXAID7IegGALhNarkVdPv7+0vDjg3t7hJQIBXrVpSwqmGmfWDDATl18pTdXQIAuBGCbgCAW9i4caPs3r3btK/qfJWUrVDW7i4BBU4xt4r+ZWVmyYI5C+zuEgDAjRB0AwDcLrW8/8D+tvYFKE6K+ZwZc2ztCwDAvRB0AwDcKujWUcO+1/W1uztAoVRqWEnKRZcz7Z9+/Eni4uLs7hIAwE0QdAMAbLd161bZtm2baXfu3FkqV6lsd5eAIlcxT0tLk5kzZ9rdJQCAmyDoBgC4VWr59ddfb2tfgKKy5nUra715AAAIugEAbhV0Dx061Na+AEVVpUkVKR9V3rR/+OEHOX36tN1dAgC4AYJuAICtduzYIZs2bTLtq666SmJiYuzuElAkfv5+0qhzI9NOSUmR2bNn290lAICvB936B+npp5+W9u3bmzl8EyZMyPexS5culUGDBkmbNm1kwIABsmjRohz36zYaN26c43L27NlSeBUAgOJwTsMltRyerlGX7KA7dwYHAMB3Bdq589dff102b94sEydOlMOHD8uTTz4p1atXl379+uV4nBbXefDBB+WJJ56Qrl27yooVK+Thhx82f8yaNGkix44dMylcCxculDJlyjieV7Ysa7wCgLsj6IY3iWkZIxWjK8rJ2JMyd+5cMwBQrlx2VXMAgG+ybaT73LlzMnXqVBkzZow0b95cevfuLaNGjZJJkyZd8NhZs2aZlMMRI0ZI7dq15dZbb5Urr7zS/DFTu3fvlkqVKpmURP1pXbSSKADAfe3du1fWrl1r2u3atZO6dc+vdQx4Iv8Af+lzbR/Hd5158+bZ3SUAgK8G3Tp6nZ6ebtLFLfqFa8OGDZKZmZnjsUOGDJHHHnvsgm1YBUp27drFFzUA8ECMcsMb9R/Y39GmijkAwLag+8SJExIZGSnBwcGO26Kjo8087/j4+ByPrV+/vkkjt+zcuVNWrVolHTp0cIx0JyUlye23327mht9zzz1m9AQA4N4IuuGNOnTpYL7jKF2vOzk52e4uAQB8cU63BsnOAbeyrqempub7vFOnTslDDz0kbdu2lZ49e5rb9uzZIwkJCfLII49I+fLl5aOPPpKRI0eaqqF6vaAyMjKK/HqAorCOOY49+BLreN+/f7/8/PPPpt2yZUtzgtW6LzMrUyRLJCsrq8T6kWV2wD58aR+lsp8skYDAABk4cKCpWXPmzBmTYn7NNdeYu/l9D1/C9xx4u4wCHtu2Bd0hISEXBNfWdediaM5iY2PlzjvvNH8o33rrLfH3zx6o/+STTyQtLc1RqOTNN980BdeWLFliKp0XlLVkDVDaOPbgi9577z1Hu2PHjrJ+/XrTDgoKEqkgcirulMSejS2RfUf5R5kpTvEJ8RJ7mn34wj5KbT/lsqe/6ZQ5DbrVxx9/7FgKj9/38EUc9/B1tgXdVapUkbi4OPPHLzAw0JFyrgF3eHj4BY/XCuVaSE199tlnEhUVlWOE3HnUXAP6mjVrmucUho60BAQEFONVAYU/O6Z/iDj24IvH/erVqx233X///aaopuVA4gGJiowSyfscbLFFRESYvz0VIipIZnDOOiLswzv3UVr7iQqNkrCwMLn77rtNsVgNwFeuXGmWMt2+fTu/7+FT+J4DXznG3Tbobtq0qfnDpyMbusa20gq2+o/SGsG2aPVPrWyut2vArZXJLTrqrZXP9Qvb0KFDHY/XtMV69eoVqk/6y4BfCLADxx58jWYu6fKPSoMR/d3vvOKEv5+/iJ+U6CoUfmYH7MOX9lEq+/HLPn512VLNtps8ebKpVbNs2TKpWrUqv+/hkzju4etsK6QWGhoqgwcPlrFjx8rGjRvNGtsTJkxwjGbrqLdVeOSDDz6QAwcOyGuvvea4Ty969lj/aHbr1k3efvttM2qiRdZ0PW/9w6Yp5gAA97N06VLHnFotoMYSj/BGzsUBp0+fbmtfAAA+GHSr0aNHm3TCO+64Q8aNG2cKpPXpk722pVYhnzNnjmn/8MMPJgC/8cYbze3W5eWXXzb3P/7449K3b1959NFHzWM0Zf3DDz/kjBoAuKnFixc72lQth7fq16+fGfFWM2bMMN9PAAC+x7b0cmu0W0evrRFsZzrvyaJVPy9G53A/9dRT5gIAcG8nT54004lUnTp1pE2bNnZ3CSgRGnBr1fJvvvnGTKlwnlIHAPAdto50AwB8j65bbC2xccMNN5BaDq/mnMmxaNEiW/sCALAHQTcAoFRNmzbN0Sa1HN7u2muvNRl5SpcyzcwsuersAAD3RNANACg1CQkJsmDBAtOuUaOGXHHFFXZ3CShRunyYVa9GU8xXrVpld5cAAKWMoBsAUGpmzZolaWlppj1kyJALlogEvJFzRodzpgcAwDfwbQcAUGq+/fZbR1uDbsAXDBw4UAIDs2vXfvfdd47l8gAAvoGgGwBQKs6ePetYjSIqKsos/Qj4gsjISOnRo4dp79+/31G9HwDgGwi6AQClYu7cuZKUlGTaXbt2lYCAALu7BJSaoUOHOtq6hBgAwHcQdAMASj21vGfPnrb2BShtgwYNctQw0H8LpJgDgO8g6AYAlLjk5GRTRM1KtW3fvr3dXQJKVaVKlaRNmzamvWvXLtm0aZPdXQIAlBKCbgBAiZs/f76cOXPmgqJSgC9xzvBwzvwAAHg3gm4AQImjajkg0r17d0eboBsAfAdBNwCgRKWmpsr3339v2mFhYdK7d2+7uwTYlmLeoUMH096yZYts27bN7i4BAEoBQTcAoEQtWbJE4uPjTfu6666TkJAQu7sEuEUVc0a7AcA3EHQDAEqUc2Bxww032NoXwG7O0ysIugHANxB0AwBKTEZGhnz33XemXbZsWenXr5/dXQJsVadOHWnXrp1pr1u3Tvbs2WN3lwAAJYygGwBQYpYvXy4nTpww7f79+5vAG/B1zhkf06ZNs7UvAICSR9ANACgx33zzjaN9/fXXO9pBQUE29Qiwn/O/BVLMAcD7sVAqAKDA4pLiJDElsUCPzczMlKnfTjXt4OBgadmppeyP3y+ZWZkiFUQOJB4Qf78Lz/0G+AVIWkaay/sOuIuGDRtKy5YtZdOmTfLzzz/LH3/8ITVr1rS7WwCAEkLQDQAoMA24J2+aLAkpCZd87B9b/pDjR4+bdkzbGPlixxfZd2SJnIo7JVGRUSJ+Fz4vJjxGetbt6fK+A+422q1Bt5Vi/re//c3uLgEASgjp5QCAQtGAW0e8L3XZuGSj4zk1r6zpuP1U0imJPRtrfub1vIKOpAOejBRzAPAdBN0AAJfLysqSvT/tNW2/AD+pc2Udu7sEuJXmzZtLo0aNHAUHjx07ZneXAAAlhKAbAOByJ3adkDMnzph2jVY1JKR8iN1dAtyKn5+fo4q5nqSyltYDAHifIgXdBw8edH1PAABeY+/K7FFuVa9TPVv7AnhCirlzpX8AgHcpUtDdr18/ufHGG+XTTz8lHQoAkIOO2u35aY9p+/n7SZ2rSC0H8tKmTRupW7euaS9ZskRiY2Pt7hIAwF2Cbp17NHToUFm8eLH07NlTbrvtNpk8ebKcOnXK9T0EAHiUk3tOyumjp027esvqUia8jN1dAtw+xTwjI0NmzJhhd5cAAO4SdEdFRcktt9win332mSxbtkyuvfZa+fHHH6VXr15y9913y/Tp0yUpKcn1vQUAuD1rlFvV7Zg9igcgb1bQrUgxBwDvVOxCaidOnDCXo0ePSmZmppQrV06+/vpr6datm8yfP981vQQAeFzVcl2Dm9Ry4OIuv/xyiYmJMe2FCxdKXFyc3V0CALhD0P3777/Lv//9b+nbt685Q7t582a58847ZeXKlfLWW2/Jl19+KXfccYc8++yzru4vAMCNxR2Ik4RDCaZdrXk1KRtZ1u4uAR6TYp6eni7ff/+93V0CALhD0K3zuX/77TcZOXKkmd/94YcfyqBBg8wot6Vdu3bSo0cPV/YVAODm9qwktRwoLFLMAcC7BRblSa+++qpcc801EhQUlOP21NRUx9zuK6+80lwAAL7DkVquQXcHgm6gIK666iqpXr26HD582EzNS0hIkIiICLu7BQCwc6T7qaeektOnsyvTOtu5c6c88sgjrugXAMDDxB2MM+nlqkrTKlKu4vnsJwD58/f3d6zZrQMYs2bNsrtLAAA7gm5dEqxJkybStGlTUyinU6dOpu180fQoLQgCAPDtUe56HevZ2hfA09x4442ONinmAOCj6eXDhw+Xhg0bmgrlWiRNC6Y5pz5pIZDQ0FBp1KhRSfUVAOApqeXM5wYKpWPHjlK1alWzGszcuXNNRmFYWJjd3QIAlPacbmsUe9GiRWbukQbaAAAkHE6Qk3tPmnalRpWkfKXydncJ8CgBAQGmUO3//vc/SUlJkdmzZ8uwYcPs7hYAoDSD7tGjR8uYMWOkfPny8s4771z0sePHj3dF3wAAHoLUcqD4dJqeBt1WijlBNwD4cCE1AACc7fmJpcIAi79f3l+vcq/6kluXLl2kUqVKpj1nzhw5e/ZsifQPAOCmI93Oo9eMZAMALIlHEyV2V6xpR9ePlvCq4XZ3CbBNaGCo+Imf7I/fn+P2zKxMkQoiBxIP5BuUq17X9JIvJ34pSUlJ8tk3n8k1g67J83HhIeESGRrp8v4DANxknW498/ree++ZuUd16tQxS4jpupLNmjWTN954Q2rUqOH6ngIA3NLeVRRQAyzBAcFyJvWMTN82XRJSEs7fkSVyKu6UREVGiVykJE5G0wxH+61P35L9NXIG7yoiJEKGtxxO0A0A3pxePnbsWFm2bJkppDZz5kwTcL/yyisSHR0t48aNc30vAQBui6rlwIU04I5LinNcTiWdktizsean8+25L+GNwiUkLMRsY9fPu+RE/IkLHpMjmAcAeGfQrQG3jmjXrVtXfvjhB+nevbtcc8018sgjj8gvv/zi+l4CANzSmRNn5Pj246YdVSdKKtSoYHeXAI/mH+gvda6sY9rpyenyx7o/7O4SAMCOoDsrK8sUA0lOTpZVq1ZJ165dze0JCQlStmzZ4vYJAOCBqeVULQdco26n8xkje1aeL1IIAPChOd1XXXWVPPvssybA9vf3l169epng+8UXX5QePXq4vpcAAPdPLXcKFAAUXY1WNSS4XLCknk2V/Wv2S0ZahgQEBdjdLQBAaY506/xtLZoWHBws7777rlm7e/v27WbEW9fyBgB4v7Mnz8rR34+admRMpLkAKD4NsK0U87SkNFLMAcAXR7rDwsLkmWeeyXHbyJEjXdUnAIAH2PfzPlORWTHKDbiW/pvasXiHI8W89hW17e4SAKA0g+60tDT57rvvZNOmTZKenm7meDtjHW8A8H57fjo/17RuB4JuwJVqXlZTgkKDzEg3KeYA4IPp5ZpC/vLLL0tcXNwFATcAwPudizsnRzYfMe2I6hGmcjkA19EA2xrd1rndhzYesrtLAIDSHOlesGCBmcvdqVOnou4XAODpBdT+POdar3M98fPzs7tLgNep16me7Fq2y7T3rtwrtdrVsrtLAIDSGunWOd1VqlQpylMBAF5gz4o9OQIDAK5Xs01NCSyTPT6yb/U+yUzPtLtLAIDSCrrvu+8+k16+e/duM6e7qFJSUuTpp5+W9u3bS+fOnWXChAn5Pnbp0qUyaNAgadOmjQwYMEAWLVqU4/5Zs2aZpctat24tDzzwgJw6darI/QIA5O907Gk5svXP1PIapJYDJSUwJFBqXZ49up1yOoUUcwDwpaD7o48+kl9++UWuu+46admypTRt2jTHpaBef/112bx5s0ycOFGef/55eeedd2TevHkXPG7btm3y4IMPyvXXX28KuA0bNkwefvhhc7vauHGjmWeuj/nqq68kMTFRRo8eXZSXBgC4hB0rdjhSy+t3rk9qOVCC6neqn2eGCQDAy+d0v/rqq8Xe8blz52Tq1KkmgG/evLm57Ny5UyZNmiT9+vW7YBT7qquukhEjRpjrtWvXlsWLF8vcuXOlSZMm8sUXX0j//v1l8ODBjmC+e/fucvDgQYmJiSl2XwEA521bln3C05rPDaDkxLSLcVQx37tqr3S+r7NIqN29AgCUeNB9xRVXmJ9nzpyRAwcOSIMGDSQ1NVXKly9f4G3oKLWmpmu6uKVdu3by/vvvS2Zmpvj7nx+EHzJkiFmmLLfTp0+bnxs2bJB77rnHcXu1atWkevXq5naCbgBwnaOHj8ofW/4w7QoxFSSyVqTdXQK8PsVcq5hrQTVTxXzDIYnuEm13twAAJZ1ergH2M888Y4LvG264QY4dOyZPPfWU3H333ZKQkFCgbZw4cUIiIyMlODjYcVt0dLSZ5x0fH5/jsfXr1zcj2hYdEV+1apV06NDBXD9+/LhUrlw5x3MqVqwoR48eLcrLAwDkY+7MueerlneiajlQGpyLFZJiDgA+MtKt6du7du2S6dOnm/nV6qGHHjLzqF966SV54403LrmNpKSkHAG3sq5rUJ8fLZCm+2rbtq307NnT3JacnJznti62nbxkZGQU6vFAcVnHHMcePMWs6bMc7bqd6kpW1p8ReCFkZmU6fvrnc+43SyN7/V8Rtl9Q7MP39lFa+8lrHwU57vNTo00NCSobJGnn0kwV8/SUdLMd/nbA3fE9B94uo4DHdpGC7vnz55t1uhs3buy4Tdsvvvii3HXXXQXaRkhIyAVBsXW9TJkyeT4nNjZW7rzzTvNH7K233nKkoOe3rdDQwk162rRpU6EeD7gKxx48gZ70XLt6rWmH1QiTzHKZEnsytljby0uUf5SZfhSfEC+xp4u+/YthH763j9Laz6X2UdTVVaq2rioHVx00Keabftwkp1ueli0Ht+Q5/Q5wN3zPga8rUtB99uzZPANanYtd0Ghf1/mOi4szf5gCAwMdKecacIeHh1/weE1htwqpffbZZxIVFZVjWxqQO9PrlSpVKtTr0krsAQEBhXoOUBz670X/EHHswRP897//dbQbXd1IoisWbV6pjtBp4KG/x/39Lhzxi4iIMH8XKkRUkMzgklmXmH343j5Kaz/57eNSx/2lNO3Z1ATd6tDaQxIWFia1amQvJwa4K77nwFeO8RIJunv06CH/+te/TJq5RSuFa2p5165dC7QNXVpM/yitX7/erNOt1q5da/5ROhdRsyqdjxo1ytyuAXfuYFrX5tbnDh061Fw/cuSIuejthaG/DPiFADtw7METfPPNNzmqlhd1PreVWquBR37b8BM//b8SnTPOPnxvH6W1n7z2UZDj/mJi2sRIcLlgM9K9c9VOSU1J5e8GPAbfc+DrilRI7bnnnjMB85VXXmnmZuv62b179zYj1M8++2yBtqEj5brE19ixY8062wsXLpQJEyY4RrN11FvnaqsPPvjAVEl/7bXXHPfpxapefsstt8iMGTPMEmRaFf2JJ56Qbt26UbkcAFxEfwdrAUtVqW4liYyhajlQmgKCAqTOVXVMO/VcqixbtMzuLgEACqhII91aXVyX8dK1tXUu9/79+6VLly5Sr17h1mvVwmsadN9xxx1muTEtkNanTx9zX+fOnWX8+PFm9PqHH34wAfiNN96Y4/naB10zXJcde+GFF8w8b62e3qlTJzO/HADg+lHuJl3PryYBoPRohsmORTtMe/b02fKXW/9id5cAAK4OunWUQwNhXbLLuSKnpknNnDnTLBtmpYoXdLRbR6+tEWxn27dvd7TnzZt3yW1pcG6llwMAXOvrr792tBtffb6IJoDSU6NVDQkpHyIpZ1Jk4byFJtuwsEVjAQBunF6+YsUKM69a18v+/PPP5eeff5YtW7bI6tWr5dNPPzWj3FpZfN26dSXbYwBAqdq3b5/5Xa+atmgqFWMq2t0lQHw9xfzc2XMyZ84cu7sEAHBl0K1LhI0cOdIUT9PR7AoVKpiCCFqlU+d26+26Zvd7771X0E0CADwstfy6wdfZ2hfA19XvUj/PDBQAgBcE3VqgTOdQX4zOud66dasr+gUAcBPOX+yvGXyNrX0BfF31ltUlNDw7pXzWrFlmGVcAgJcE3VrITEe1LyYyMtKsQQkA8A579+6VX375xbS1aGXd+nXt7hLg0/wD/aVR50aOJVVJMQcALwq6tXBa7vWzc9OCas4F1gAAnk2XYrTcdNNNtvYFwIUrCHz11Ve29gUA4OLq5XPnzjVLe+XHWjcbAOB9qeW5l20EYI9arWtJxeiKcjL2pMyePVvOnDlz0e9nAAAPCbqrV68uEyZMuOTjqlWrVtw+AQDcwO7du2Xt2rWm3bZtW6lfv77sj99vd7cAn+cf4C/9BvSTSf83yUz/07ndWswWAODhQffixYtLticAALdCajngvq4dcq0Juq0Uc4JuAPCCOd0AAN9Cajngvq7seKVUqVLFMf0vMTHR7i4BAPJB0A0AuMDOnTtl3bp1pt2+fXupV6+e3V0C4CQgIEBuuOEG005JSZGZM2fa3SUAQD4IugEAF5gyZYqjTWo54J6c/206Z6YAANwLQTcAIAdd+vHLL790XL/55ptt7Q+AvHXu3NlRwHbevHkSHx9vd5cAAHkg6AYA5LBx40b5/fffHV/qa9WqZXeXAOTB39/fUW8hNTVVZsyYYXeXAAB5IOgGAOQwefJkR3v48OG29gVAwVPMnaeFAADcB0E3AMAhMzPT8cXduVATAPfUoUMHqV27tmkvWLBAjh8/bneXAAC5EHQDABxWrVolBw4cMO3evXtLpUqV7O4SgEukmN9yyy2mnZGRIVOnTrW7SwCAXAi6AQAOzgXUrC/yANyb879V53/DAAD3QNANADDS09Mdo2RlypSRwYMH290lAAXQsmVLad68uWmvXLlS9u3bZ3eXAABOCLoBAMbixYsd80GvvfZaCQ8Pt7tLAArAz88vx2g3BdUAwL0QdAMADKqWA56LFHMAcF8E3QAASU5OlunTp5u2jnBfc801dncJQCHUq1dPrrrqKtPeuHGjbN682e4uAQD+RNANAJA5c+ZIYmKiaQ8ZMsTM6QbgWRjtBgD3RNANAKBqOeAFbrrpJrOEmPVvOisry+4uAQAIugEAOsI9a9Ys09Z1uXv27Gl3lwAUQdWqVR3/fvfu3SurV6+2u0sAAIJuAMB3331n5nRbI2WBgYF2dwlAETlnqjgXRwQA2IegGwB8HKnlgPcYOnSohISEmPbXX38t6enpdncJAHweQTcA+LATJ07IggULTLtWrVrSoUMHu7sEoAD8/fL+ChcRESHXXnutaR87dkyWLFlSyj0DAORGDiEA+LBvvvlGMjIyTHvYsGGOIkwA3FdoYKj4iZ/sj9+f5/29BvaSadOmmfaHn34ojS5vVKT9hIeES2RoZLH6CgAg6AYAn0ZqOeB5ggOC5UzqGZm+bbokpCRccH9adJoElw2W1HOp8v1330vtW2tLYHDhvvJFhETI8JbDCboBwAUIugHARx08eFCWL19u2k2aNJHWrVvb3SUAhaABd1xSXJ731bmqjuxYvMME3huXb5S6HeuWev8AANnIIwQAHzVlyhRHe/jw4eLn52drfwC4Tv2r6zvau37cZWtfAMDXEXQDgI8itRzwXjVa15AyEWVM+8AvB8yINwDAHgTdAOCDtm/fLuvWrTPt9u3bS4MGDezuEgAX8g/wl3qd6pl2RlqG7Fu1z+4uAYDPIugGAB/EKDfg/Rp0PX8yjRRzALAPQTcA+JisrCz5/PPPTVvncd988812dwlACajSpIqEVQ4z7UMbDsm5uHN2dwkAfBLVywHAS2gV48SUxEs+7teff5U9e/aYdqeunSS9XHq+6/06C/ALkLSMNJf0FUDJ05Nq9bvUl/XfrpeszCzZs3KPtLiuhd3dAgCfQ9ANAF5CA+7JmybnuW6vs3nvzHO0I66IkPd+fa9A248Jj5GedXsWu58ASjfFXINutWvZLoJuALABQTcA+Mi6vSo9NV1+X/q7aQeWCZTK7Spf9PHOIkIiXNZPAKUjqk6URNaOlLj9cXJ8+3FJOJwgEdX5twwApYk53QDgQ8zSQWezlw6q26GuBIUG2d0lACWsUfdGjvaOxTts7QsA+CKCbgDwITuWnP/C3bB7Q1v7AqD0Usz9/P1Me+fSnWZ+NwCg9BB0A4CPSEpIkoNrD5p2uYrlpHrL6nZ3CUAp0H/vNVrXMO0zx8/Ika1H7O4SAPgUgm4A8BG7l++WrIwsx8iXfwB/AgBf0aiHU4r5IlLMAaA08Y0LAHzEzsU7HW1SywHfUueqOo4aDnt/2ivpKel2dwkAfAZBNwD4gLiDcXJi1wnTjq4fLVG1o+zuEoBSFBgSKPU61TPttKQ02ffzPru7BAA+g6AbAHzAziWMcgO+LkeKOVXMAaDUEHQDgJfTSsVasVhpBeMGVzewu0sAbFC1WVUJqxxm2oc2HJKzJ8/a3SUA8AkE3QDg5Q5vOixnY7O/XMe0jZHQCqF2dwmADfSkm5Xpoifjdi3bZXeXAMAnEHQDgJezRrlVwx6klgO+zHl6iaaYZ2WxZjcAlDSCbgDwYmnJaaZSsQoqGyS1L69td5cA2CiieoRUaVLFtOMOxMnJPSft7hIAeD1bg+6UlBR5+umnpX379tK5c2eZMGHCJZ/z66+/Ss+ePS+4XbfRuHHjHJezZ5mrBMC3aYVirVSs6neubyoYA/BtFFQDgNJl67ev119/XTZv3iwTJ06Uw4cPy5NPPinVq1eXfv365fn47du3y8MPPywhISE5bj927JicPn1aFi5cKGXKlHHcXrZs2RJ/DQDgzqhaDiC3ep3ryU8f/SQZaRmy68ddctWdV4l/IMmPAFBSbPsNe+7cOZk6daqMGTNGmjdvLr1795ZRo0bJpEmT8nz8lClTZNiwYVKxYsUL7tu9e7dUqlRJYmJizE/r4ufnVwqvBADck1Ym1grFKqxKmFRtWtXuLgFwAyHlQ6T2FdlTTZITkuXgbwft7hIAeDXbgu5t27ZJenq6tGnTxnFbu3btZMOGDZKZmXnB43/88Ud57bXXZOTIkRfct2vXLqlbt26J9xkAPImOYGmFYtWwW0NTuRgAFCnmAOAD6eUnTpyQyMhICQ4OdtwWHR1t5nnHx8dLVFRUjsf/73//Mz+nTZuW50h3UlKS3H777bJ3715p2rSpmSte2EA8IyOjyK8HKArrmOPYgytkZmWKZImjGvHOxedTyxt0a+CSKsVZZgfn91Hkfv750z+fc7+u2M+lsA/f20dp7SevfRTkuC/uPgqjxmU1JDQiVJISkmT/mv2SlJgkZcLOT9HTbWtf+fuE4uB7DrxdRgGPbduCbg2SnQNuZV1PTU0t1Lb27NkjCQkJ8sgjj0j58uXlo48+MiPis2fPNtcLatOmTYXaL+AqHHsorqCgIJEKIqfiTkns2VhJOJAgp/afMvdF1Y+StJA0iT0ZW6x9RPlHmQyl+IR4iT1dvG2pU6dOlcp+2Af7KM39XGof+R33rtxHQVW/orrsXrBbMtMzZdMPm6Rud6fBinJi6uVsObhF0tKyizECRcX3HPg624JuLYaWO7i2rjsXQyuITz75xPxBKFeunLn+5ptvSteuXWXJkiUyYMCAAm+nZcuWEhAQUKh9A8U9O6Z/iDj24AoHEg9IVGSUSBmRXTN2OW5v2rupRFeMLvb2IyIiJDAwUCpEVJDM4AunARWUjp5p4KEZTf5+/iW2n4thH763j9LaT377uNRx74p9FFbra1qboFsdXnNYLr/hcsd9UaFREhYWJrVq1CpWX+Hb+J4DXznG3TborlKlisTFxZkztfqHw0o514A7PDy8UNvSEXLnUXMN6GvWrGmqmheG/jLgFwLswLEHVzBf5P1EsjKyZNey7KBbKxLX71LfZYUl/XQH+r9ibM9KrdX+5rcdV+znUtiH7+2jtPaT1z4KctwXdx+FVbFeRYmqHWWyYo5vPy4JhxOkQo0K1g5MX/nbBFfgew58nW2F1HTetQbb69evd9y2du1acybM37/g3dK5TL169cox11sro+/fv1/q1avn8n4DgLs78OsBSYpPMu1al9fKOU8TAP6kAbtzQTXnJQYBAF4QdIeGhsrgwYNl7NixsnHjRrPG9oQJE2TEiBGOUe/k5OQC/cHo1q2bvP3227J69WrZuXOnPPHEE1K1alWTYg4Avmbbwm2OdpM+TWztCwD31qBrA8fKBhp0WyseAAC8IOhWo0ePNmt033HHHTJu3Dh56KGHpE+fPua+zp07y5w5cwq0nccff1z69u0rjz76qNx4440mZf3DDz8kjQWAzzkde1oO/pq95m656HJS87KadncJgBsrG1XW8XvizIkzcnjTYbu7BABex7Y53dZot669rZfctm/fnudzhg4dai7OdA73U089ZS4A4Ms2z9/sGKlq3LOx+AfYem4VgAdo1KuRHPwt+2TdtgXbpEbrGnZ3CQC8Ct/GAMBLZGZmysYfNmZf8RNp3Kux3V0C4AHqXFlHQsJCTHvvT3slOfHS0/sAAAVH0A0AXuLnlT9L/OF409aRqrAqYXZ3CYAHCAgKcBRU0zW7KagGAK5F0A0AXuKrz75ytJv0poAagIJzLrqoKea6OgwAwDUIugHAC8TFxcncmXNNW9NE61xVx+4uAfAgkTGRUqVpFdOOOxAnh3+noBoAuApBNwB4gUmTJklqSqppN+ze0KSLAkBRR7s3zN1ga18AwJsQdAOAh9M00I8//thxndRyAEVRr1M9CSobZNrblm6T04mn7e4SAHgFgm4A8HC//fabbNiQPSpVrUk1iaodZXeXAHigoDJB0uDqBqadlpwmM6fNtLtLAOAVCLoBwMM5j3K37t/a1r4A8GxN+zZ1tKd8NsXWvgCAtyDoBgAPdvbsWZk8ebJply1XVpp0I7UcQNFF14+WivUqmvbGdRtl/fr1dncJADweQTcAeLBvvvlGEhMTTfu6IddJSNkQu7sEwMM17dM0z0waAEDREHQDgAf75JNPHO2bb7/Z1r4A8A4NujaQwJBA0/7iiy8kKSnJ7i4BgEcj6AYAD7V9+3ZZvny5aTdr1kzaXt7W7i4B8ALB5YKlydXZU1USEhJMRg0AoOgIugHAC0a5R40aJX5+frb2B4D3aH3N+aKMH330ka19AQBPR9ANAB4oLS1NJk6caNpBQUFy++23290lAF6kRvMa0qBx9vJhmlGjmTUAgKIh6AYADzRr1iw5fvy4aQ8ePFiio6Pt7hIAL6KZM8NuH+a4TkE1ACg6gm4A8EDOX4A1tRwAXG3IzUNMJo3SzJrU1FS7uwQAHomgGwA8zB9//CHz5s0z7Vq1akmvXr3s7hIAL1QxuqIMGTLEtE+cOCHff/+93V0CAI9E0A0AHjjKnZmZadp33XWX+PvzqxxAyXDOpCHFHACKhm9qAOBBNL3zgw8+MO2AgAC5++677e4SAC/Ws2dPqVOnjmnPnz9f9u3bZ3eXAMDjEHQDgAeZPn26HD161LQHDRokNWvWtLtLALyYZtJYJ/eysrJyLFUIACgYgm4A8CDvvvuuo/3ggw/a2hcAvuHOO+80mTXWmt0UVAOAwiHoBgAPsWnTJrNermrWrJl069bN7i4B8AE1atRwFFQ7duyYfPPNN3Z3CQA8CkE3AHjgKPf9999v1tEFgNLgnFnzzjvv2NoXAPA0BN0A4AHi4+Pl888/N+3y5cvL7bffbneXAPiQq6++Wlq0aGHaq1atkrVr19rdJQDwGATdAOABJk6cKOfOnTPtESNGSHh4uN1dAuBDNLPmoYceyjPzBgBwcQTdAODmdE3u//3vf47rDzzwgK39AeCbbr31VomIiDDtyZMnS2xsrN1dAgCPQNANAG5u0aJFsmPHDtPu3r27KaIGAKWtXLlyctddd5l2SkoKy4cBQAERdAOAm3MuWsQoNwA7ORdx1AycjIwMu7sEAG6PoBsA3Nj+/ftl1qxZjmV7Bg0aZHeXAPiwBg0aSP/+/U37wIEDjt9PAID8EXQDgBt7//33zZxude+990pgYKDdXQLg45yXD3v77bdt7QsAeAKCbgBwU8nJyfLxxx+bdlBQkNxzzz12dwkApG/fvmbE26o58fvvv9vdJQBwawTdAOCmvv76a0d14BtuuEGqVq1qd5cAQPz9/XPUl2D5MAC4OIJuAHBTzl9kKaAGwJ2MHDlSypYta9oTJ06UxMREu7sEAG6LoBsA3NAvv/wia9asMe3WrVtLx44d7e4SADhUqFBBRowYYdpnzpwxgTcAIG8E3QDg5qPcWrTIWqIHANyFcwaOLm1oFX0EAORE0A0AbkbncU+ZMsUxmjR8+HC7uwQAF2jRooV069bNtHfs2GGKqgEALkTQDQBuZsKECZKSkmLad955p2PeJAC4m4ceesjRZvkwAMgbQTcAuJG0tDSTpmm57777bO0PAFzMwIEDpWbNmqY9a9Ys2bt3r91dAgC3E2h3BwDAF8QlxUliyqWr+3739Xdy8OBB0+7Rp4cEVwqW/fH7L/m8AL8ASctIc0lfAaCgAgMDzcnBMWPGSFZWlrz33nvy+uuv290tAHArBN0AUAo04J68abIkpCTk+xj9wvrp6586rlfpU0Xe+/W9Am0/JjxGetbt6ZK+AkBh3HPPPTJu3DhJTU2Vjz/+WJ577jkpX7683d0CALdB0A0ApUQDbh3xzs8f6/+Q47uPm3alhpWkfMPyF328s4iQCJf1EwAKo1KlSnLLLbeYZcPi4uJMXYq//e1vdncLANwGc7oBwE1snL7R0W41pBXLhAHwGI899pij/c9//tPUpwAAZCPoBgA3cHLvSflj3R+mHVYlTOp2qGt3lwD4OH8//0ItH3bttdea9oEDB2Tq1Kkl2DMA8CyklwOAG9j43flR7paDWop/AOdEAdgnNDBU/MSvQIUcLSPuGyGzZ8827ZfGvyQd+3e8ZMZOeEi4RIZGFru/AODOCLoBwGZnTpyRXT/uMu2QsBBp3Kux3V0C4OOCA4LlTOoZmb5t+kULQDrLCs6Sak2qyZFtR+T3zb/Lkx88KXXb171oLYrhLYcTdAPwegTdAGCzzbM2S1ZGlmk3699MgsoE2d0lAChQAcjcWgxuIUdePWLaK6eslArNK5Rg7wDAM5C/CAA2Sj2bKr/P+920A4ICpPm1ze3uEgAUWe0ra0tE9ezVFA5tOCQndp2wu0sAYDuCbgCw0e8//C5pSdlVfhv2aChlI8va3SUAKDKtR9FqcCvH9Q3TN9jaHwAQXw+6U1JS5Omnn5b27dtL586dzbqOl/Lrr79Kz549L7h91qxZ0qtXL2ndurU88MADcurUqRLqNQC4RkZahmyeuTn7ip9Iq0Hnv6gCgKfSE4ihEaGmvXflXkk8mmh3lwDAd4Pu119/XTZv3iwTJ06U559/Xt555x2ZN29evo/fvn27PPzww5KVlT330bJx40YZM2aMPPjgg/LVV19JYmKijB49uhReAQAU3e7lu+XsybOmXfuK2lKhJnMfAXi+wOBAaTGghWlnZWblWJ0BAHyRbUH3uXPnzBqOGiw3b95cevfuLaNGjZJJkybl+fgpU6bIsGHDpGLFihfc98UXX0j//v1l8ODB0qRJExPML1u2TA4ePFgKrwQACk9PHm6cfv6LaOshrW3tDwC4UrNrmklgmex6vdsXbpekhCS7uwQAvhd0b9u2TdLT06VNmzaO29q1aycbNmyQzMzMCx7/448/ymuvvSYjR4684D59jqaoW6pVqybVq1c3twOAO/pj3R9yan/2NJgqTapI1WZV7e4SALhMSPkQadq3qWlnpGbIltlb7O4SANjGtqD7xIkTEhkZKcHBwY7boqOjzTzv+Pj4Cx7/v//9T/r06ZPnto4fPy6VK1fOcZuOiB89erQEeg4Axec8yu1cdAgAvEXLgS3FL8DPtDXoTkvOLhoJAL7GtnW6k5KScgTcyrqemppaqG0lJyfnua3CbicjI6NQjweKyzrmOPa8X2ZWpkhWdlp57O5Ys5SOCq8WLrWuqHVBrYqiyDI7yN5HSXHFPsx78edP/3zO/XrKa2EfnrWP0tpPXvsoyHFf3H24WnH3US66nNTvUl92Ld0lKadTTJp5jmURs7LfD/4Gei++58DbZRTw2LYt6A4JCbkgKLaulylTxiXbCg3NrpxZUJs2bSrU4wFX4djzbkFBQSIVRE7FnZLYs7Hyy9e/OO6r16uenIov/moLUf5RZspOfEK8xJ6OLfb2SmMf+a0y4YmvhX24/z5Kaz+X2ocrVldxh9dRULV61DJBt1o/bb1UurySWVbMKCdy+vRp2XJwi6SlMQruzfieA19nW9BdpUoViYuLM7/QAwMDHSnnGnCHh4cXeluxsTn/IOj1SpUqFWo7LVu2lICAgEI9Byju2TH9Q8Sx5/0OJB6QqMgoSUxIlENrske5y4SXkTYD2khgSPF/FUdERJjfpRUiKkhm8IV1MVzBVfvQkS0NPKKiosTfz9+jXwv78Jx9lNZ+8tvHpY57V+zDlVy1j+iK0bKz3U45uPagnIs9J6e3nZb6V9c390WFRklYWJjUqlHLhT2HO+F7DnzlGHfboLtp06bml/n69esdRdDWrl1r/lH6+xfuj5Guza3PHTp0qLl+5MgRc9HbC0N/GfALAXbg2PN+5ku2n8j6qevNEjqq+XXNJahMkMv24ac70P/5Zc+hLAmu2IeVWqvvSX7b8ZTXwj48ax+ltZ+89lGQ4764+3A1V+2j9dDWJuhWG6ZvMEG32aZf9vvB3z/vx/cc+DrbCqlp6rcu8TV27FizzvbChQtlwoQJMmLECMeot87VLohbbrlFZsyYYZYg06roTzzxhHTr1k1iYmJK+FUAQMHFH4mXHYt3mHZwuWBpcV32OrYA4M2qtagmlRpmZx+e3HNSDq3PzvYBAF9hW9CtRo8ebdbovuOOO2TcuHHy0EMPOSqUd+7cWebMmVOg7eiyYy+88IK8++67JgDXlKjx48eXcO8BoHB+mvyTZGVkOar66pI6AODtdFRbR7sta79cW+IF8wDAndiWXm6Nduva23rJbfv27Xk+R1PIrTTygtwOAO7gwL4Dsnn+5vOj3AMY5QbgO+p2qCuRtSIl7kCcHNt2TP747Q+J6hxld7cAwPtHugHAV7z95tuOudwtBzHKDcC3+Pn7Sbvh7RzXf538K6PdAHwGQTcAlLDdu3fLtCnTHKPcLQe0tLtLAFDq6l5VVyrWrWjaJ3aekN2rd9vdJQAoFQTdAFDCXn75ZbOkhGo1qJUJvAHAJ0e7bzk/2r1i4gpGuwH4BIJuAChBu3btks8++8y0NaWcudwAfFntK2tLdP1o0z6265jMnzPf7i4BQIkj6AaAUhrlvvz6yxnlBiC+XsnceW73v8f/WzIzM23tEwCUNIJuACjBUe7PP//ctCMqREj7Ie3t7hIA2K5W+1qOdbu3bdkm06Zl17wAAG9F0A0AJeSll15yjHKPemCUhJSjYjkA6Gh3++HnT0I+//zzjt+VAOCNCLoBoIRGub/44gvTjoyMlJF/GWl3lwDAbdRsW1OqN6tu2lu3bpWpU6fa3SUAKDEE3QBQwqPcjz76qISFh9ndJQBwq9HuLnd0cVwfN24co90AvBZBNwC42M6dOx1zuXWU+6GHHrK7SwDgdmq3qS1XdLjCtLdt2yZTpkyxu0sAUCIIugGgBEa5rWq8OsodHh5ud5cAwC1Hu//x9D9yjHanp6fb2icAKAkE3QDg4lFuay53VFQUo9wAcBEdOneQ7t27O35/Tpo0ye4uAYDLEXQDgAs988wzjHIDQCHoCLflhRdekLS0NFv7AwCuRtANAC6yatUq+frrr027UqVK8uCDD9rdJQBwe126dJHevXub9p49e2TixIl2dwkAXIqgGwBcICsry4xsO4/cMMoNAIUf7db2uXPnbO0PALgSQTcAuMC3335rRrpVkyZN5J577rG7SwDgMTp06CDXXXedaf/xxx/y5ptv2t0lAHAZgm4AKKaUlBR58sknHdffeOMNCQwMtLVPAOBp9HdnQECAab/22mty+PBhu7sEAC5B0A0AxfTuu++aeYiqR48ecu2119rdJQDwOJoldN9995m2ppePGTPG7i4BgEsQdANAMZw6dUpefPFFx5qz//znP81PAEDhjR07VipUqGDaWlDtt99+s7tLAFBsBN0AUAwacMfHx5v2iBEj5LLLLrO7SwDgsSpWrCjPPfeco0DlI488Yn4CgCcj6AaAItq1a5dJLVehoaHy8ssv290lAPB4DzzwgDRo0MC0ly1bJjNmzLC7SwBQLATdAFBETz31lKSlpZn2Y489JjVq1LC7SwDg8YKDg01RNcvjjz8uqamptvYJAIqDoBsAimDFihVmmTBVpUoV86UQAOAagwYNkq5du16QVQQAnoigGwAKSecXPvrooznmdYeFhdnaJwDwJlqQ8t///rejMOULL7wgJ0+etLtbAFAkBN0AUEhfffWVrFmzxrSbN28ud955p91dAgCv06ZNGxk5cqRpa8FKrWwOAJ6IoBsACiE5OdnM5ba8+eabEhgYaGufAMBbvfTSS1KuXDnTfu+992Tbtm12dwkACo1vigB8XlxSnCSmJBbosR+89YHs37/ftLv06CJNr2oq++Ozr+cnwC9A0jKyC64BAAquevXq8uSTT5plxDIyMkzRylmzZtndLQAoFIJuAD5PA+7JmyZLQkrCRR93Ova0fPzax9lX/EQa3NxA3vv1vUtuPyY8RnrW7emq7gKAT9EaGh9++KH88ccfMnv2bFmwYIH07t3b7m4BQIERdAOAiAm4dcT7Yha8vUBSz2UvW9OkdxMJqhZ0yeeoiJAIl/UTAHxN2bJlZfz48XL77bc7gvDffvuNqT0APAZzugGgAPav2S97f9pr2mUiysgVd1xhd5cAwGcMHz5cLr/8ctPetGmTvPXWW3Z3CQAKjKAbAC4hLSlNVn6w0nG9w90dpExYGVv7BAC+xN/fX95++23HEmLPPvus7N2bfSIUANwdQTcAXMLaL9fKmRNnTLtG6xrSoGsDu7sEAD7nyiuvlAceeMC0z507J/fdd59kZWXZ3S0AuCSCbgC4iNjdsbLp+02mHRAUIJ3v6+wYaQEAlK5XXnlFatasado//PCDfPnll3Z3CQAuiaAbAPKRmZEpy/+3XLIys0dS2tzcRiKqUxQNAOwSFhYm7777ruP63//+dzl58qStfQKASyHoBoB8bJ27VU7sPGHakTGR0npIa7u7BAA+b+DAgXLDDTeY9okTJ8za3QDgzgi6ASAPZ0+elV8+/8VxvcsDXUx6OQDAflq9PCIiO/Po008/lUWLFtndJQDIF0E3AORh5YcrTdVy1aRPE6narKrdXQIAr+PvV7SvotWqVZPXX3/dcf3ee++VpKQkF/YMAFwn0IXbAgCvsG/1Ptm3ap9ph0aEsiY3AJSA0MBQ8RM/2R+/v0jP731Db7ni0ytkzao1snv3bnn06UflyeefvOBx4SHhEhka6YIeA0DREHQDwMXW5B7FmtwAUBKCA4LlTOoZmb5tuiSkJBRpGy3vbilrf10rGWkZ8v5b70ty02SpXK+y4/6IkAgZ3nI4QTcAWxF0A4CTXyf/Kmdjz5p2jctqSP2r69vdJQDwahpwxyXFFem5AZUD5LIbLpO1X641K03MenOWDHp9kPgHMIMSgPvgNxIA/On4zuOyeeZm0w4IDpAu93VhTW4AcHMadFeIqWDauuLE1jlb7e4SAORA0A0AIpKalCpL/rnk/JrcN7WR8GrhdncLAHAJurLE1Q9c7bi+5vM1cubEGVv7BADOCLoBQEQWvbdIEg5nzyms1KiSXDb0Mru7BAAoIF1homm/pqadnpwuS/+zVDIzMu3uFgAYBN0AfN68WfNk49yNph1YJlB6PNJD/AP59QgAnuTKO66UctHlTPvwpsOyYdoGu7sEAAbfKgH4tMOHD8tTf3vKcb3jqI4SUT3C1j4BAAovuFywdH+ku8ifpTh+nfSrHP79sN3dAgCCbgC+KzMzU0aOHCnxcfHmep0OdaRx78Z2dwsAUETVW1SXNje2MW2t0TFz/Ew5nXja7m4B8HEE3QB81n//+19ZsGCBaZevWN4U4qFaOQB4tnbD2knlxtlrdccfiZfnn3je7i4B8HEE3QB80oYNG+Spp86nlV/7xLVSJryMrX0CABSf1uTo8WgPCQoNMtenfTVNJk2aZHe3APgwgm4APicpKUluvfVWSU1NNddHPTBK6rStY3e3AAAuEl41XLrc38Vx/b777pM9e/bY2icAvsvWoDslJUWefvppad++vXTu3FkmTJiQ72O3bt0qN954o7Ru3Vquv/562bx5c477dRuNGzfOcTl79mwpvAoAnubJJ5+ULVu2mHarVq3k8Wcft7tLAAAXa9C1gbTo3cK0T58+LcOHD5e0tDS7uwXAB9kadL/++usmeJ44caI8//zz8s4778i8efMueNy5c+fkL3/5iwmsp02bJm3atJF7773X3K6OHTtmfpkuXLhQVqxY4biULVvWhlcFwJ3NnTtX3n77bdMuU6aMTJ48WUJCQuzuFgCgBPR6sJfUrlvbtFevXi3jxo2zu0sAfJBtQbcGzFOnTpUxY8ZI8+bNpXfv3jJq1Kg859zMmTPHfCl+4oknpH79+uY55cqVcwTou3fvlkqVKklMTIz5aV0oiATA2fHjx+XOO+90XH/jjTfM7x8AgHcKKRsi//3ovxIYGGiuv/LKK7J06VK7uwXAx9gWdG/btk3S09PNqLWlXbt2priRLuPjTG/T+6wgWn+2bdtW1q9fb67v2rVL6tatW8qvAIAn0d83t99+u8mMUf3795cHHnjA7m4BAErYZe0ukxdffNG0s7Ky5LbbbpNTp07Z3S0APiT7tJ8NTpw4IZGRkRIcHOy4LTo62szzjo+Pl6ioqByPbdCgQY7nV6xYUXbu3OkY6dbCSPqFeu/evdK0aVMzV7ywgXhGRkaxXxdQlGOOYy9/CSkJ5lJc458bL/PnzzftitEVZey/xsq++H0S4BcgqRmpIlnZX8ZKSpbZAftQmVmZjp/++Zz79ZTXwj48ax+ltZ+89lGQ4764+3A1r9hHVvZ7/uijj5q/AUuWLJFDhw7JyJEj5dtvvxV/f2oKlyS+58DbZRTw2LYt6NYg2TngVtZ1q6LwpR5rPU6rUSYkJMgjjzwi5cuXl48++sj8Mp09e7a5XlCbNm0qxisCio5jL29BQUEiFUQmbZgkcUlxRd7OzuU7Zek72emEfgF+0uGBDvLxxo/N9bpRdeW65tdJfEK8xJ6OlZIQ5R9lRtrZR075jTR54mthH+6/j9Laz6X24YoRVnd4HZ6yDymXXUTt94O/y+OPPy6//fab+c44c+ZMuf/+++Wvf/1ryewXOfA9B77OtqBb52jnDq6t61rcqCCPtR73ySefmGqUOs9bvfnmm9K1a1dzNnPAgAEF7lPLli0lICCgyK8JKMrZMf1DxLGXvwOJB8SvjJ8ZrSiKEztPyPIPljuudxzVUaq1rXb+ASFi5vpViKggmcE5p7a4SkREBPtwoqNOGnhoRpO/n79Hvxb24Tn7KK395LePSx33rtiHK3nLPqJCoyQsLExq1ahlanho7aCBAweaqYwff/yx9OjRQ2666aYS2Tf4ngPfOcbdNuiuUqWKxMXFmTOcVnELTSPXQDo8PPyCx8bG5jwDqtcrV67sGPV2HgnXIL1mzZqOuZsFpb8M+IUAO3Ds5c98OfXLruVQWOfizsmC8QskIy079adJnybS7JpmF2zLz+ygaPsoKPZxnpVaq59tftvxlNfCPjxrH6W1n7z2UZDjvrj7cDWv2Idf9ntu/Y299tprTRFNTTdXd911lzRq1MjUDkLJ4XsOfJ1tE1l03rUG21YxNLV27VpzJiz3/Bpdm3vdunWO+T76U9OD9HZt9+rVyywl5lwZff/+/VKvXr1SfEUA3IkG2hpwnz151lyv0rSKdLq3E6saAICP+8c//mGmIark5GQZNGiQHDlyxO5uAfBitgXdoaGhMnjwYBk7dqxs3LjRrLE9YcIEGTFihGPUW38Rqn79+kliYqK8/PLLplK5/tR53lp9WL9Ad+vWzay7q+svanE1XVqsatWqJsUcgO/Rk3Er3l8hx7ZlZ7uUiy4nvZ/qLQFBnGUHAF+n3x3ff/996dixo7muhdX0O6n1vRMAXM3Wko2jR48282vuuOMOGTdunDz00EPSp08fc1/nzp3N+txKi6F98MEHZiR86NChZgmxDz/8UMqWLWvu18IYffv2NalCN954o0lZ1/tJYwF809Y5W2X7gu2mHRAcIH1G95Gykdm/LwAA0KmImiUZExNjrq9Zs0buueeeEq+eD8A32Tan2xrtfu2118wlt+3bs78wW1q1aiXTp0/P9xfnU089ZS4AfNvhTYflp49/cly/+sGrpVLDSrb2CQDgfrRm0Pfffy+dOnUyUxO/+OILadGihTz55JN2dw2Al2FxQgBe4/Sx07LwtYWSlZE9UtFqSCtp2K2h3d0CALipyy67TD7//PMcWZi6nBgAuBJBNwCvkHImRX54+QdJTsyekxfTNkauGHGF3d0CALg5nbr4wgsvmLamlw8fPlw2b95sd7cAeBGCbgAeLz0lXea9OE9O7TtlrkdUj5Aej/UQ/wB+xQGAryvIuujPPPOMY73uM2fOyIABAwq99CwAuOWcbgBwxdJg81+ZL8d+z/5yVCaijPR9pq+ElA+xu2sAAJuFBoaatcD3x++/5GPH/XucbN2+VTZv2Cz79u2Trt27ypRZUyQyKrJA+woPCZfI0II9FoBvIegG4LEyMzJl8T8Xyx/r/jDXg8oGyTVjr5EKNSvY3TUAgBsIDgiWM6lnZPq26ZKQknDJx3d5sosc+PsBSTyeKNt/3y79+/WXYW8Mk5ByFz+RGxESIcNbDifoBpAngm4AHikrM0t+fOdH2fvTXsfSYP2f6y/R9aPt7hoAwM1owB2XFHfpB5YX6f9Cf/l+9PeSFJckR3celS9HfynXjLtGgsoElUZXAXghJjwC8Dha6GbVhFWyY9EOc90/0F/6PN1HqjaranfXAAAeTuuCXPvitRISlj26rdOX5r88X9JT0+3uGgAPRdANwOP8NuU32fx9dmVZP38/6fFoD1OtHAAAV4iqFSXXvnCtBJcLNtcPbThklqTUOiIAUFgE3QA8yqYZm2Ttl2sd17s80EXqdapna58AAN5Hpyv1f76/BJbJno154JcDsuRfS0w9EQAoDIJuAB5j24JtsuqTVY7rHe7uIE16N7G1TwAA71WlSRXp90w/UzdE7Vm5R5a9tczUFQGAgiLoBuARdP728neXO663u6WdtBzU0tY+AQC8X/VW1aX36N6mfojauWSnrPxgpakvAgAFQdANwO2tnrpalv53qWNkocXAFtJ2WFu7uwUA8BG12tWSno/1NHVE1Na5W03gTao5gIIg6AbgtnQUYfxz42Xph0sdtzW/trl0uKuD+Pllf/EBAKA01O1YV7o93E3kzz8/W+dslUVvLKKqOYBLYp1uAG4pPT1dRo0aJRMnTnTc1v7W9tLmpjYE3AAAWzTs3tCcELbmde/9aa8kJyTLTS/eZHfXALgxRroBuJ1z587JkCFDHAG3pvN1ub+LtL25LQE3AMBWjXo0kn7P9nNUNT+y5YhMemSSHDl0xO6uAXBTBN0A3EpcXJz06dNHZs2aZa4HBwfLoGcGSdN+Te3uGgAARky7GLnu5eukTEQZcz12X6wM7TNUtmzZYnfXALghgm4AbuPQoUNy9dVXy8qVK831sLAw+fSbT6Vxl8Z2dw0AgBwqN6wsg14bJGFVw8z1I4ePSOfOnWX58vMrbQCAIugG4Ba2b98unTp1ks2bN5vrlStXlmXLlknHLh3t7hoAAHmKqB5hAu+qjaqa6/Hx8dK7d2/59ttv7e4aADdC0A3AdjNmzJArrrhC9u/fb67Xq1fPjHa3adPG7q4BAHBRZSPLyi1v3iJX97zaXE9JSZEbb7xR3nrrLdbyBmAQdAOwtUL5U089JYMHD5bExERzW6tWrWTFihXSoEEDu7sHAECBBIcGyydffiIjRoww1zXYfvjhh+X222+XM2fO2N09ADYj6AZgi2PHjpmCaa+99prjtptuuskE3NWqVbO1bwAAFFZQUJB8+umnMnr0aMdtkyZNkssvv5wCa4CPI+gGUOo0dbxt27ayZMkScz0wMFD+85//yJQpU0zxNAAAPJEua/nKK6/I119/7fh7tm3bNjOF6vPPP7e7ewBsQtANoNRout1///tf6datmxw+fNjcVr16dVm6dKlJw2MNbgCAN9A53b/++quZMqXOnTtnUs/vueceSUpKsrt7AEoZQTeAUqFz2m655Rb5+9//buZyKw2+f/vtN1O1HAAAb9KoUSP5+eefZdSoUY7bPv74Y7nqqqtk586dtvYNQOki6AZQ4vRLR/v27eWrr75y3Pbkk0/KggULpEqVKrb2DQCAkhIaGiofffSRTJw4UcqWLWtu27hxo7Rr106mTp1qd/cAlBKCbgAl5uzZs/KPf/xDOnbsaNbhVuHh4TJ9+nR59dVXzVxuAAC8naaWr1mzRpo2bWqunz592hQPvfXWW+XEiRN2dw9ACSPoBlAiFi9ebOayaYE0a51SHe3WOW66RBgAAL6kefPmJvDWQNsyefJkE4h/9tlnrOkNeDGGmQAUWVxSnCSmZK+vbUlISJDxz42XKZ9NcdwWUiZEHhn9iNx9/91mdHt//P4CbT/AL0DSMtJc3m8AAOxQvnx5U8W8d+/eJhMsLi5OTp48KXfccYd88cUX8v7770u9evXs7iYAFyPoBlBkGnBP3jRZElISzPWdP+2U+W/NlzMnzzgeU7NlTen/SH/JrJkpH63/qFDbjwmPkZ51e7q83wAA2EVX6tAgu1+/fqa4qC6XqbTOSYsWLWTcuHEmIGcKFuA9+NcMoFg04D506JCs+mSV7F6+23F7UGiQXHnHldK0X1Px8/czo+KFFRES4eLeAgBQMvz9CjdrUwuJfvnll3LbbbfJfffdJwcPHjTLiT3xxBPmdq103rZt2xLrL4DSQ9ANoMhOJ56WHz/9UX755hdJT8leBkzFtI2RLg90kfKVytvaPwAASkNoYKj4iV+Bp085a9GphcxdOVfefPlNmfjhRDO3e926dXL55ZfLbXfdJg89/pBUqlzJPDY8JFwiQyNL4BUAKEkE3QAKLTU1VT744AMZO26snDp5ynF7SPkQ6TCqgzTs3tCkzwEA4AuCA4LlTOoZmb5tumPKVWFVuaGK3Nb8Npn373lyYu8JyczMlM8+/ky+/OJLaT+0vfS+rbfc1eEugm7AAxF0AygwPfv+9ddfy5gxY2T37vOp5P6B/iaNvO3NbSU0ItTWPgIAYBcNuIsyncoSWidUBv1zkGyYtkHWfbNO0pPTJS05TVZNXiXrZq6T9MfT5ZnHnjHrfwPwHCwZBqBAlixZIldccYUMGzYsR8DdtFtTuendm6TTXzoRcAMAUEx6IrvNTW1k2AfDpPl1zc11lXw6WV557hVp2LChme+dnn5+WhcA90bQDeCiI9vz5s2TXr16SY8ePcwa2xa9/v3i72XgmIESXi3c1n4CAOBtykaWNSe0b/rfTWbalvw5a0uLl95zzz1m3W+tfE7wDbg/0ssBXCA5OVkmTZok//rXv2Tr1q057mvVqpW89tpr0rdvXzmQcEBW/rrStn4CAODtwquGS/d/dJdet/eSXVN3yYK5C8ztO3bskFtuuUUee/wxGXHPCBk2YphEVCj+qh8UawNcj6AbgMOJEyfkvffek3fffVeOHz+e47769evL888/L7feeqv4+5MkAwBAaYppECN/m/g3+e83/5XZ78+WgxsPmtsP/XFIxj8/Xt4c/6a06N1C2g1pJxVjKhZpH7pU5/CWwwm6ARcj6AYg27Ztk//85z8yceJEM8rtrHPnzvLoo4/KgAEDJCAgwLY+AgAAkYiGEdLvxX5yeONh2TRzkxz45YBIlpiCa1psTS8x7WOk5YCWUuOyGqwmArgBgm7AR506dcpUIv/ss89k1apVOe7TkewbbrjBBNtaPA0AALgPDaRrtK5hLgmHE2TzzM2yfdF2U+1cHfz1oLlExkRK416Npf7V9aVcxXJ2dxvwWQTdgBfS5UoSUxLzXF972cJlMu2rabJo3iJz3Vm58uXMnLCR946UmFox5rb98fvz3EeAX4CkZaSV0CsAAAAFEVE9Qjrd20na39peti/YLptnb5Yzx8+Y++IOxsnP//ez/Pzpz1KjVQ1p0LWB1O1QV4LLBdvdbcCnEHQDXkgD7smbJpv1QrUC+dEdR2XLwi2ydclWSUpIuuDx0XWipWXfltK6f2sJKRcis47PEsk5pfsCMeEx0rNuz5J7EQAAoMBCyodIqyGtpMXAFrJv9T7Z/P1mObr1aPadWSKHNhwylxXvr5Dal9eWBt0aSEzbGAkIYuoYUNIIugEvpPOyf1v+m2xdudXM9TpzIvuMtzNdU1v/4OoyJBXrVjSpauf0v6RzBS62AgAA3It/gL/U61jPXDT1fOfSnbJr6S5JPJqdAZeRmiF7Vu4xl5CwEKl9RW2p1b6W1Lyspkio3b0HvBNBN+AlDh8+LHPmzJGZM2fKgoULJOnchSPaAcEBUufKOibQrtmmpvnDDAAAvDf1vP3w9tLulnZyYscJE4DvXrFbkhOyi6amnE6RHYt2mItfgJ/EtIgR/6H+cuv1t0qzZs0owga4CEE34KFOnz4tP/30kyxfvlzmzZsna9euzfNx/oH+Ur1ldanXqZ65MI8LAADfosFz5caVzaXD3R3kj/V/yK5lu2Tfz/skPSW7+FpWRpYc2HBAxm8Yb5Ygq127tlxzzTXSt29fs5JJxYpFW4YMAEE3YLugoKACPU7XzV6xYoUJsn/88UdZv369ZGZm5vnY6MrRUq1tNanapqqpbBpclkAbAABkn4zXdHK9pKemy5HNR+Tg2oNmOpqVgq72798v7733nrmopk2bmuC7U6dO5me9evUYCQcKiKAbsLGyeGZWpkgFkQOJB8Tf73yq97mz52Tb1m2yZeMW2bxhs/zy8y+yZ+eei263eavm0rNfT+ndr7c0atFIJmyYYPYFAACQl8DgQFNMTS8d7+koWSezpNrRavLzkp9l6dKlOVY5+f33383lo48+MterVKniCMLbtWsnrVq1kgoVKtj4agD3RdAN2FhZXKuJHj5wWFJjU+XY7mNybFf2Je5QnGRlZuW/ET+RSnUqSc0WNSWmVYz5GRYdZu7aX26/NJAGpfeCAACAV4iqGSV3Db5Lxj01Ts6cOSOLFy+WZcuWycqVK800tvT07FR0dezYMfn222/NxVKnTh1p3bq1uVx22WXSokULs4oK4OsIuoFSoGeKd+/eLTt27JDVG1bL7FWz5fiB45JwKCHPJbxy0+ImlRpUkmrNq0nV5lWlatOqZmkQS7qkO0a1qSoOAACKysq8K1++vAwcONBc1Llz52TNmjUmANfpblpXJjHxfDq62rdvn7nMmDHDcZtup3nz5tK4cWNp2LChNGrUyPzUi94H+AJbg+6UlBQZN26czJ8/X8qUKSN33XWXueRl69at8vzzz5ugpUGDBuZ5evbMMmvWLPnPf/4jJ06cMKkuL774okRFRZXiq4EvS0tLk0OHDsmBAwfMHCj9abV37dole/fuzXf+dV5zraJqR0nFehUlul6042dgCOfIAABAyQkNDBU/8ZP98fvzvL/uZXXN5bYHbpOMjAzZ8fsOWffrOvl98++yddNWMzXu7JmzOZ6jI+arV682l9yqVatmgnD9bl+rVi2JiYkxF6sdGsoaZvAOtn6Lf/3112Xz5s0yceJEs9zRk08+KdWrV5d+/frleJyeWfvLX/4iAwYMkFdffVW+/PJLuffee2XBggVStmxZ2bhxo4wZM8YE4k2aNJGXX35ZRo8eLR988IFtrw3eQY89TZ/Sy9GjRy9oHzlyRA4ePGiO34IG1c5CI0OlXOVyUqVhFYmuH22C6wo1K0hAUECJvB4AAID8BAcEy5nUMzJ92/TsaXAF0UKkeovqUn1YdemZ2VPij8TL8T3HzbS5E7tPyNFdR+VM7Jk8n6rfo/SiKex50YrpVgCuAXrlypXNXHLrYl2PiIigqBvcWqCdwczUqVNNMQZNOdHLzp07ZdKkSRcE3br2cEhIiDzxxBPmH5QG2Fq9WZdJGjp0qHzxxRfSv39/GTx4sCOY7969uwmG9B8pfDutW5fW0vQn66d10etxcXFy6tQpx+XkyZM5rutxWlzlypUzZ3E1rUp/VqxZUdamrhX/aH8JCg2S2JOxEl0xmj8WAADALWjAXeRirFEilaMqS+X2lc18bv2eU6F8BUk8kigJRxIkKzZLKiZVlD279si+Pfsk9kRsvpvS72V6Wbdu3UV3GRwcLFHRUSb4joiMkIgKERIdFS3VKleTyMhIk/2qP8PCwiQ8PNz8dG5rxi3fw+CVQfe2bdtMMYY2bdo4btPKh++//74ZMfT3P1/JecOGDeY+6x+D/mzbtq1ZMkmDbr3/nnvucTxez4TpiLneTtBdevQXq6YaWRdNudbPWC/Obeu6BsTWJfd1vej0g+TkZMcl9/WkpCQ5e/asCYzz+qkXfU5Ji64ULdVrVpcaMTXMT9OuWcNxPapilOPYDfALkOT0ZDm87rD5Y0ZxEQAA4O10ilzFuhXNpU6FOjKkyRDHaHrK2RQzOp54PFFOnzhtfiae+LP958+LFpf9c5Dl6OGj5lIUAQEBJvjWOeaaRet80cETq63p7hqg62Bgfj/1BIBedEnY/NqBgYEXXKzbtS964SSAd7Et6Na513rGSQ8+S3R0tAmS4uPjc8zH1sfqXI/c6SY6Mm6tX6zpJbnv1xRgb6GB5LPPPmtS6TVQy31Rztf1xEVej7Nud/6Zu537ogF07uvWRQNoq12U9Gp3pKndoWGhUia8jJQJKyPlIsvlvESdb5etUNYst+EsVVJlr/6Xvldkn1YVOX9fTHiM9Kzbs/RfFAAAgDuOpvuLBNcIluga0aL/5ZaZkSlJ8Uk5Lufiz0lyQrL5ad2WcjpFkk8nS0ZqRqH7ot9jNf7Qi7vQAUgrAM/rovdbl9zX9aJBu/PP3LdZl9zXnW9T1m3O7fzuy/3T+cSB3yXaed2mmQv/+Mc/TCV8T2db0K2jlM4Bt7KuO68JeLHHWo/TUc+L3X8pVtCqj9eD1h1pFUh3nKNu/cN3B/4B/uZManCZYAkOCTbtMmXLSEi5EAkODTbt4LLBElI2JLsdGmyCa+tSs0pN6dywsyw8uFBOp54u+I4LMVgdkBVgTk5EBUdJYFagZEqmBJUPkojQCPHXvzouEBkcmWMfJaU09sM+vHMflzruPem1sA/P2Udp7Se/fbjy9723fCbeso/S2o8n7iOv475I+ygnIjUK9tD0tHQJywiTqypfJafiTklifKIkJiSanyYT8syflz/b585kZ0hqwbfkpGTHRbMw3Yk1yOVrjh07Jt9//724K+szuVT2ql+WTfmtc+fOlZdeesksO2DRJZWuueYaU92wQoUKjtu1iJrOhX3ssccct73xxhvm8ZqOrmc/3nrrLbn66qsd9994441mW3feeecl+6LB9qZNm1z6+gAAAAAA3q9ly5YXDAK7xUi3VhrUIlaanqzzF6w0cp0PoUUNcj82NjZnkQW9bqWU53d/pUqVCtQX3b++Uc6pFAAAAAAA5MeaomvFs24XdDdt2tR0TouhtW/f3ty2du1aR/DrrHXr1qbKub4oDYr152+//SZ//etfHffrc7WomvPyA3p7Qej+LnZmAgAAAACAonDNJNIi0Op/usTX2LFjTXGwhQsXyoQJE2TEiBGOUW+dq610CTFd4knX3961a5f5qfO8dZkwdcstt5g5z7oEmVZF16XFunXrRuVyAAAAAICtbJvTrTRw1qB7/vz5pkT/3XffLSNHjjT36ZrG48ePd4xea2D+/PPPm3ncet+4ceOkWbNmjm1NmzbNzOtOSEiQTp06yYsvvmiqowMAAAAA8P/t3Xdszf8Xx/FTVIlNzRJfe+9du4iVtMSIkkY0sYMSo/beitjEjFWhSf+wR21ij5ix1YgtZmq035x3chsdft/kx6dv93o+kpvqvb2feyIl93Xf57zff2XoBgAAAADAk1lrLwcAAAAAwNMRugEAAAAAcAihGwAAAAAAhxC6AUuePXsmAwcOlNq1a0vDhg3NxoFxcXG2ywLSTK9evSQ8PNx2GYDjvnz5YjaArVWrlvj7+8vcuXPN8aeAJ9Pje3v37i3Vq1eXgIAAWbt2re2SAGusndMN/M30zZYG7uzZs8vGjRvNrvujRo0yZ8aPGDHCdnmA43bs2CGHDx+W9u3b2y4FcNyUKVPk1KlTsmrVKvn48aMMHjxYChUqJF26dLFdGuCYsLAw83uuJwzpkb9Dhw4VPz8/adGihe3SgDTHSjdgwd27d+XixYtmdbtUqVJSs2ZNE8K3b99uuzTAcW/fvpVZs2ZJpUqVbJcCpMnve1RUlDnKtHLlylKvXj0JDQ2VS5cu2S4NcIwuJuj7nL59+8o///wjzZs3N119J0+etF0aYAWhG7Agb968snLlSvH19U1y/4cPH6zVBKSVmTNnSlBQkJQsWdJ2KYDjzp07J1mzZjWjRD+OVuiHroCnypQpk2TOnNmscn/9+tUsNpw/f17KlStnuzTACkI3YIG2lesnvi7x8fGyYcMGqVu3rtW6AKfpKsfZs2elX79+tksB0kRsbKxpqY2OjpZWrVpJs2bNZPHixeb/fcBT+fj4yLhx42TLli1SpUoVad26tTRq1Eg6depkuzTACma6gT/A7Nmz5dq1a7Jt2zbbpQCO0Y0Cx48fb96I6SoI8Df49OmTPHjwQCIjI83q9osXL8y/AV0F1DZzwFPduXNHmjZtKj169JBbt26ZEQsdrwgMDLRdGpDmCN3AHxC4161bJ/PmzZPSpUvbLgdwzKJFi6RixYpJujwAT5chQwYzOhQREWFWvNWTJ09k8+bNhG54dFeTLiTohpn6Iavu4aGntixdupTQjb8SoRuwSD/11TdeGrxbtmxpuxzA8R3LX758KdWqVUs8Rknt2bNHLly4YLk6wLk9PLTV1hW4VbFixcxxSoCnunLlihQtWjRJV1P58uVl2bJlVusCbCF0AxZX/bTdUM9r1Tk/wNOtX79evn37lvj9nDlzzFc9RgbwVDrPqqMV9+7dM2Fb6aZSP4ZwwNPky5fPjFXoh6sZM2ZM/L0vXLiw7dIAK9hIDbA057RkyRLp2bOn1KhRw8z4uW6Ap9KQoSsfrluWLFnMTf8MeKrixYtLkyZNZOTIkXLjxg05evSorFixQoKDg22XBjgmICBAvL29ZcyYMeYDp5iYGLPKHRISYrs0wAqvhISEBDsvDfy99A2Xzvel5ubNm2leD2BDeHi4+TpjxgzbpQCOev/+vRkn2rdvn9lArWvXrtK/f3/x8vKyXRrgmNu3b8vUqVPl8uXLkjt3bunWrZt0796d33v8lQjdAAAAAAA4hPZyAAAAAAAcQugGAAAAAMAhhG4AAAAAABxC6AYAAAAAwCGEbgAAAAAAHELoBgAAAADAIYRuAAAAAAAcQugGAAAAAMAhhG4AANxImTJlzO3JkycpHtu8ebN5bOHChWle161btyQkJMT8OTw83Nz+H3qN27dv/+bqAACwh9ANAICb8fb2lpiYmBT379+/X7y8vKzUNGnSJOnfv/8vX0evMXHixN9SEwAAfwJCNwAAbqZmzZopQveHDx/kwoULUr58+TSv58yZM/LixQupW7fuL19Lr/Hy5Us5e/bsb6kNAADbCN0AALiZZs2ayenTp03Qdjl06JAJ41myZEm878uXLzJ9+nRp2LChVKhQQQICAmTLli2Jj588eVKCgoKkUqVK5pqRkZGJj+3cuVNatmxpHmvTpo1ZRf8ZbWtv3rx5qo+9fv3aXGfkyJGSkJAg8fHxMmfOHKlTp465LVmyRFq0aCGnTp1KfI7WqdcEAMATELoBAHAzpUuXlvz588uRI0cS79u3b1+K4LtixQoTxnXGe/fu3dKuXTuZPHmyWUn+/v27hIWFSatWrWTXrl0yaNAg09at89SvXr2S4cOHS+/evc3zOnToIEOGDJG3b9+mqEWD9PHjx6V+/fopHvv8+bP07dtXSpQoIVOmTDGt78uXL5fo6GiJiIiQNWvWmPpiY2OTPE+vdezYMXNtAADcHaEbAAA3pCvTrhZzXdHW4Kv3/ahs2bIydepUqVq1qhQpUkT69OkjX79+lfv378v79+9NiPb19ZXChQtLYGCgCcF58+aVZ8+emZ8rUKCA+Pn5SWhoqFmR9vHxSVHHo0ePzHWKFy+e5H4N9YMHD5aMGTPK/PnzJX369Ob+TZs2mbDfoEED0wo/Y8aMFOFaQ7pe8/Hjxw78zQEAkLYI3QAAuCEN2EePHpVv376ZNnFd/c6TJ0+Sn9GV77i4OBNse/XqZdq2XYE4Z86cEhwcLGPGjJGmTZuajdCyZcsmOXLkkHLlykmTJk2kR48eZiVc28E1mGfOnDlFHW/evDFfc+XKleR+XT3XVWytSYO3q9X8+fPnpmXdRcO6vuaPXNfSnwcAwN0RugEAcEM1atQwX8+dO2fmrXUuOrl58+bJsGHDJEOGDKa1/Md5bjVhwgTZvn27dO7cWS5dumS+Hj58OLENfOvWrWYe++DBg9K+fXu5fv36T+vRWe0fFSxYUFavXi179+6VEydOmPu0DpV8ZTv5965r2dqJHQCA34nQDQCAG9IA27hxY9NirqE4tY3MdGO0sWPHytChQ81maDpj7Qq5utu4znAXLVrUzF1HRUWZncP1enfu3JGZM2dK5cqVTYv4jh07TIjWlfXktD1dJZ/31g8F/P39TZDXOXJtV8+ePbvky5dPrl69mvhzOs/97t27VFfPtdUdAAB3R+gGAMCNW8x1NVpbuHVmOzltIddArsFWj+DSzdFcM+Da0q2br02bNk0ePnxojv26ceOGmbPWcKy7h+sctz5X28R1vjq148g0jGs7+M2bN1OtUee3tU1c58VVSEiILFiwwLTE6+vprubJV7X1WhrmdbM4AADcHaEbAAA3pZuR6Uz3z47r0kCtLeFt27Y14Vbns3X1Wu/TOWsN1Rp8dRM1DccdO3aUTp06mRVm3fF8z5495rk67627l+vrJadhWXcb1zb31GjwHzhwoCxdulSePn1qNmXTVvgBAwZI9+7dzTy5XsPb2zvxOXotfS3aywEAnsArgfM4AADAL9AztkePHv0/z/J20WPOKlasKLlz5zbf6yp4vXr15MCBA2azNn1boh8iaHu7njsOAIC7Y6UbAAD8kjp16ph2cD227L/oZm6jRo0y54Hr7Lhu5qa7mWvgVnoNnfsmcAMAPAWhGwAA/DINz9pC/l/GjRsn6dKlky5duphN1nSn8sWLFyc+rtfQawEA4CloLwcAAAAAwCGsdAMAAAAA4BBCNwAAAAAADiF0AwAAAADgEEI3AAAAAAAOIXQDAAAAAOAQQjcAAAAAAA4hdAMAAAAA4BBCNwAAAAAADiF0AwAAAAAgzvgXzWElNn4fA0MAAAAASUVORK5CYII=)"
      ],
      "metadata": {
        "id": "ASlMaCr6WzeQ"
      }
    },
    {
      "cell_type": "markdown",
      "metadata": {
        "id": "kct8cB5_R6-Y"
      },
      "source": [
        "### 1.2. Overview of Generative Models\n",
        "# TODO edit depending what remains in part 1\n",
        "---\n",
        "\n",
        "\n",
        "The process of finding the \"best\" parameters for a model based on the data is the essence of **learning** or **fitting** in machine learning. By fitting a probability model to our data, we create a representation that we can analyse, make predictions from, and, most importantly for this practical, **generate** from.\n",
        "\n",
        "The main goal of a generative model is to learn the underlying probability distribution of a dataset. The goal is to understand the data so well that the model can create new, synthetic data points that are similar to the original data."
      ]
    },
    {
      "cell_type": "markdown",
      "metadata": {
        "id": "KmYThb72R6-Y"
      },
      "source": [
        "To understand generative models better, it's helpful to contrast them with **discriminative models**.\n",
        "\n",
        "- **Discriminative Models:**\n",
        "  > Discriminative models learn the boundary between different classes of data. Given a data point $x$, they predict a label $y$. They are concerned with the *conditional probability* $p(y|x)$, which can be interpreted to mean the probability of the output $y$ given the input $x$.\n",
        "  For example, a model that looks at a picture of an animal and tells you if it's a 'cat' or a 'dog' is a discriminative model. Here the input $x$ may be an image of a cat and the output $y$ would be ‘cat’, if the model predicts correctly.\n",
        "\n",
        "- **Generative Models:**\n",
        "  > Generative models learn the joint probability distribution $p(x, y)$ of the data $x$ and labels $y$, or just $p(x)$ if there are no labels. A model that learns the joint distribution not only learns the relationship between input $x$ and output $y$, but also the relationship between output $y$ and input $x$.\n",
        "  For example, we can train a generative model on images of cats. The model learns the combinations of colours, shapes, and textures that make an image look like a cat. Because they model how the data is generated, they can create new data points. In our example, the model can learn to generate novel, realistic pictures of cats. Because the model has learnt what features make up a cat, it would also be able to predict the label “cat” if given an image of a cat.\n",
        "\n",
        "Let us make this more general and consider the task of modelling data from two different classes.\n",
        "\n",
        "**Discriminative:** In this case, we are interested in learning a probability distribution $p(y|x)$, i.e., the  probability of the class $y$ being either 0 or 1 given an example $x$. For any example $x$, we can determine whether it is more likely to be from class 0 or class 1, and draw a corresponding decision boundary where $p(y = 0|x) = p(y = 1|x)$.\n",
        "\n",
        "**Generative:** Here, we are interested in learning the probability distribution $p(x|y)$, i.e., the probability of observing some data $x$ given that it is from class $y$. We might also be interested in learning the probability distribution $p(x)$ which is the probability of observing $x$ in either of the classes. *The cool thing about generative modelling is that if we can sample $x \\sim p(x|y)$ or $x \\sim p(x)$ we can generate new unseen examples*.\n"
      ]
    },
    {
      "cell_type": "markdown",
      "metadata": {
        "id": "ZzQsZijJR6-Y"
      },
      "source": [
        "Below we can see a visual comparison between discriminative and generative models.\n",
        "\n",
        "<img src=\"data:image/png;base64,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\n",
        "\" width=\"60%\" />"
      ]
    },
    {
      "cell_type": "markdown",
      "metadata": {
        "id": "oEEy4_aJR6-Z"
      },
      "source": [
        "*In the picture above ([source](https://www.analyticsvidhya.com/blog/2021/07/deep-understanding-of-discriminative-and-generative-models-in-machine-learning/)), red and blue dots represent examples ($x$) from classes $y = 0$ and $y = 1$, respectively. The dashed black line shows the decision boundary in the discriminative case. In the generative case, the light red and blue ovals show the areas where $p(y = 0|x)$ and $p(y = 1|x)$ are large, respectively.*"
      ]
    },
    {
      "cell_type": "markdown",
      "metadata": {
        "id": "1yhCtXskR6-Z"
      },
      "source": [
        "### TODO overview of probabilistic models, GANS, VAES\n",
        "### TODO add some graphics throughout"
      ]
    },
    {
      "cell_type": "markdown",
      "source": [
        "\n",
        "Before moving on, make sure you have a working grasp of the following.\n",
        "\n",
        "- **Probability Distributions**  \n",
        "- **Latent vs. Observed Variables**  \n",
        "- **Bayes’ Rule**  \n",
        "- **Likelihood & Maximum Likelihood Estimation (MLE)**  \n",
        "- **Evidence Lower Bound (ELBO)** # TODO I think we can exclude this?\n",
        "\n"
      ],
      "metadata": {
        "id": "6F6B6q5yOIt-"
      }
    },
    {
      "cell_type": "markdown",
      "source": [
        "### Probability Distributions\n",
        "\n"
      ],
      "metadata": {
        "id": "I7igeaOWOrVF"
      }
    },
    {
      "cell_type": "markdown",
      "source": [
        "A probability distribution describes how likely different outcomes are for a random variable. For a discrete variable, it assigns a probability to each possible value (summing to 1). For a continuous variable, it’s described by a probability density function (PDF) that integrates to 1 over all values.\n",
        "\n",
        "Example: The distribution of a fair coin toss is 50% Heads, 50% Tails. The distribution of heights in a population can be modeled by a continuous curve (e.g. a normal distribution)."
      ],
      "metadata": {
        "id": "Fwo61_aPALM_"
      }
    },
    {
      "cell_type": "markdown",
      "source": [
        "**Below is a code example using JAX to visualize a simple distribution. You can adjust parameters to see how the distribution changes.**"
      ],
      "metadata": {
        "id": "Al1NRDR1SsxU"
      }
    },
    {
      "cell_type": "markdown",
      "source": [
        "#### Bernoulli distribution"
      ],
      "metadata": {
        "id": "HQeeQXb4TfA0"
      }
    },
    {
      "cell_type": "code",
      "execution_count": null,
      "metadata": {
        "colab": {
          "base_uri": "https://localhost:8080/",
          "height": 484,
          "referenced_widgets": [
            "e7db671aedeb442dada74fa8eec1301e",
            "4e1324bdb5de4514b26f24ef71e42c82",
            "6b6f062931804945aa33d6833c706a58",
            "0def11a885204627aea4ddabc25c1a11",
            "b4ca069589a1481981c58d9f50cb7ba1",
            "d89b2045aa4f48c69d6130b07af7620c",
            "34e08fb3a2f94e5b8191670819abe249"
          ]
        },
        "id": "3hrbdi-Z4gYJ",
        "outputId": "9b8ea9dc-5ee0-4f5c-d92a-a31a1f1fbe53"
      },
      "outputs": [
        {
          "output_type": "display_data",
          "data": {
            "text/plain": [
              "interactive(children=(FloatSlider(value=0.5, description='p', max=1.0), Output()), _dom_classes=('widget-inter…"
            ],
            "application/vnd.jupyter.widget-view+json": {
              "version_major": 2,
              "version_minor": 0,
              "model_id": "e7db671aedeb442dada74fa8eec1301e"
            }
          },
          "metadata": {}
        }
      ],
      "source": [
        "# Plot a Bernoulli distribution with probability p of success\n",
        "def plot_bernoulli(p=0.5):\n",
        "    outcomes = jnp.array([0, 1])\n",
        "    probs = jnp.array([1-p, p])\n",
        "    plt.bar(outcomes, probs, width=0.4)\n",
        "    plt.xticks([0, 1], labels=[\"0 (Failure)\", \"1 (Success)\"])\n",
        "    plt.ylim(0, 1)\n",
        "    plt.title(f\"Bernoulli Distribution (p={p:.2f})\")\n",
        "    plt.ylabel(\"Probability\")\n",
        "    plt.show()\n",
        "\n",
        "interact(plot_bernoulli, p=(0.0, 1.0, 0.1));\n"
      ]
    },
    {
      "cell_type": "markdown",
      "source": [
        "#### Normal distrbution"
      ],
      "metadata": {
        "id": "57GwQU5STmLR"
      }
    },
    {
      "cell_type": "code",
      "source": [
        "# Plot a Normal distribution with fixed axes\n",
        "def plot_normal(mu=0.0, sigma=1.0):\n",
        "    x = jnp.linspace(-10, 10, 500)  # Fixed x-axis range\n",
        "    coeff = 1.0 / (sigma * jnp.sqrt(2 * jnp.pi))\n",
        "    pdf = coeff * jnp.exp(-0.5 * ((x - mu) / sigma)**2)\n",
        "\n",
        "    plt.plot(x, pdf)\n",
        "    plt.title(f\"Normal Distribution (μ={mu:.2f}, σ={sigma:.2f})\")\n",
        "    plt.xlabel(\"x\")\n",
        "    plt.ylabel(\"Density\")\n",
        "    plt.xlim(-10, 10)              # Fixed x-axis\n",
        "    plt.ylim(0, 0.5)               # Fixed y-axis\n",
        "    plt.grid(True)\n",
        "    plt.show()\n",
        "\n",
        "interact(plot_normal, mu=(-5.0, 5.0, 0.5), sigma=(0.1, 5.0, 0.1));\n"
      ],
      "metadata": {
        "colab": {
          "base_uri": "https://localhost:8080/",
          "height": 536,
          "referenced_widgets": [
            "9209f472d0d04d8dbbea1e8c951ca346",
            "7ec9a5d6db904a338b916ef5cb0b6b84",
            "8a0efaa7c540458ba6219d1cb9688608",
            "226d22a81eec49e2a88d22b66ee9e4be",
            "2cab3db4a63044ada1ddf076f28e3012",
            "8ebf900bba2f4b57a4ab65c8f9f1ac56",
            "8c0470b862ec40a696b1b63304063063",
            "e1a3b02e1df54cc79936178c9d3028b6",
            "798a15124fbc45bdb25e7db4d050c75d",
            "20ab718fca68472094b24f7508189626"
          ]
        },
        "id": "X0-_COBa5EPc",
        "outputId": "d0540272-3816-446c-8b1d-4cc12ac61241"
      },
      "execution_count": null,
      "outputs": [
        {
          "output_type": "display_data",
          "data": {
            "text/plain": [
              "interactive(children=(FloatSlider(value=0.0, description='mu', max=5.0, min=-5.0, step=0.5), FloatSlider(value…"
            ],
            "application/vnd.jupyter.widget-view+json": {
              "version_major": 2,
              "version_minor": 0,
              "model_id": "9209f472d0d04d8dbbea1e8c951ca346"
            }
          },
          "metadata": {}
        }
      ]
    },
    {
      "cell_type": "markdown",
      "source": [
        "#### Code Task"
      ],
      "metadata": {
        "id": "XQUg9VYzjYn3"
      }
    },
    {
      "cell_type": "markdown",
      "source": [
        "**Challenge : Complete the code below to compute the mean of a discrete distribution defined by a list of outcomes and their probabilities. Use jax.numpy for computation.**"
      ],
      "metadata": {
        "id": "XZ0J3-JHV8KX"
      }
    },
    {
      "cell_type": "code",
      "source": [
        "outcomes = jnp.array([0, 1, 2, 3])\n",
        "probs = jnp.array([0.1, 0.3, 0.4, 0.2])\n",
        "# TODO: compute the expected value (mean) of the distribution\n",
        "expected_value = jnp.sum(outcomes * probs)  # replace None with the computation\n",
        "print(\"Expected value:\", expected_value)\n"
      ],
      "metadata": {
        "colab": {
          "base_uri": "https://localhost:8080/"
        },
        "id": "iv0VSfHhWJ3h",
        "outputId": "f81c57f7-ebc2-43d2-da05-92f03e9faab2"
      },
      "execution_count": null,
      "outputs": [
        {
          "output_type": "stream",
          "name": "stdout",
          "text": [
            "Expected value: 1.7\n"
          ]
        }
      ]
    },
    {
      "cell_type": "markdown",
      "source": [
        "### Latent and observed Variables\n",
        "\n",
        "\n",
        "\n"
      ],
      "metadata": {
        "id": "oaXK9zLDokJc"
      }
    },
    {
      "cell_type": "markdown",
      "source": [
        "\n",
        "In many probabilistic models, we distinguish between **observed variables** (the data we have) and **latent variables** (hidden or unobserved factors that influence the data). Latent variables help explain the structure or variability in the observations.\n",
        "\n",
        "These unobserved variables are not directly measured but are assumed to generate or influence the observed data. For instance, in a **mixture of Gaussians**, the latent variable might indicate which Gaussian component generated a given data point, even though that label is not present in the dataset.\n",
        "\n",
        "\n",
        "\n",
        "#### **Example**\n",
        "\n",
        "Suppose our observed data $x$ consists of images of handwritten digits. A latent variable $z$ might represent:\n",
        "\n",
        "- The digit class (0 through 9)\n",
        "- Style attributes (stroke width, orientation, etc.)\n",
        "\n",
        "We do not observe $z$ in the dataset, but it determines the appearance of $x$. In this case, the latent variable captures meaningful structure in the data generation process.\n",
        "\n",
        "\n",
        "\n",
        "#### **Latent Variable Model**s\n",
        "\n",
        "A **latent variable model** defines a joint distribution over observed and latent variables:\n",
        "\n",
        "$$\n",
        "p(x, z) = p(z) \\cdot p(x \\mid z)\n",
        "$$\n",
        "\n",
        "Where:\n",
        "\n",
        "- $p(z)$ is the **prior** distribution over the latent variable. It is usually simple (e.g., standard normal).\n",
        "- $p(x \\mid z)$ is the **likelihood**, or generative model, describing how the data is generated from the latent.\n",
        "\n",
        "\n",
        "#### **Marginal Likelihood of Observed Data**\n",
        "\n",
        "Since we do not observe $z$, we obtain the **marginal distribution** over the observed data $x$ by summing or integrating over all possible values of the latent:\n",
        "\n",
        "- **Discrete latent space:**\n",
        "\n",
        "$$\n",
        "p(x) = \\sum_z p(z) \\cdot p(x \\mid z)\n",
        "$$\n",
        "\n",
        "- **Continuous latent space:**\n",
        "\n",
        "$$\n",
        "p(x) = \\int p(z) \\cdot p(x \\mid z) \\, dz\n",
        "$$\n",
        "\n",
        "This marginalization step is critical in generative modeling, but it is often computationally intractable, especially in the continuous case. This leads to the need for **approximate inference techniques** such as variational inference or Monte Carlo sampling.\n",
        "\n"
      ],
      "metadata": {
        "id": "uLTPjQMs_zar"
      }
    },
    {
      "cell_type": "markdown",
      "source": [
        "### Bayes’ Rule\n",
        "\n",
        "\n"
      ],
      "metadata": {
        "id": "8jMzebCmWgY-"
      }
    },
    {
      "cell_type": "markdown",
      "source": [
        "Bayes’ Rule allows us to compute the **posterior probability** of a latent variable $X$ given an observation $Y$:\n",
        "\n",
        "$$\n",
        "P(X \\mid Y) = \\frac{P(Y \\mid X) \\cdot P(X)}{P(Y)}\n",
        "$$\n",
        "\n",
        "This requires that $P(Y) \\ne 0$. The components are:\n",
        "\n",
        "- $P(X)$: prior, belief about $X$ before seeing $Y$\n",
        "- $P(Y \\mid X)$: likelihood, how likely we are to observe $Y$ given $X$\n",
        "- $P(Y)$: marginal likelihood, normalizing constant\n",
        "- $P(X \\mid Y)$: posterior, updated belief about $X$ after seeing $Y$\n",
        "\n",
        "- Discrete Case\n",
        "\n",
        "In discrete models, the marginal likelihood is computed as a weighted sum:\n",
        "\n",
        "$$\n",
        "P(Y) = \\sum_{x} P(Y \\mid X = x) \\cdot P(X = x)\n",
        "$$\n",
        "\n",
        "This sum may be **computationally expensive** if $X$ takes many possible values, as it requires evaluating $P(Y \\mid X)$ for all $x$.\n",
        "\n",
        "\n",
        "- Continuous Case\n",
        "\n",
        "In the continuous setting, the marginal becomes an integral:\n",
        "\n",
        "$$\n",
        "p(Y) = \\int p(Y \\mid x) \\cdot p(x) \\, dx\n",
        "$$\n",
        "\n",
        "The computational bottleneck in Bayes’ Rule arises from the denominator $P(Y)$, which involves marginalizing over the full domain of latent variables. This makes exact inference difficult for complex models and motivates the development of scalable approximate Bayesian methods."
      ],
      "metadata": {
        "id": "luOuUAHn_pi7"
      }
    },
    {
      "cell_type": "markdown",
      "source": [
        "#### Code Task"
      ],
      "metadata": {
        "id": "UScvR_PLj5GS"
      }
    },
    {
      "cell_type": "markdown",
      "source": [
        "\n",
        "Complete the code below to compute the posterior probability $P(X \\mid Y)$ using Bayes' Rule.\n",
        "\n",
        "We consider:\n",
        "- $P(X)$: prior probability that a patient has a disease\n",
        "- $P(Y \\mid X)$: probability of a positive test if the patient is sick (sensitivity)\n",
        "- $P(Y \\mid \\lnot X)$: probability of a positive test if the patient is not sick (false positive rate)"
      ],
      "metadata": {
        "id": "v5Ek7VrEiLqu"
      }
    },
    {
      "cell_type": "code",
      "source": [
        "# Given values\n",
        "P_X = 0.01                          # Prior: patient has the disease\n",
        "P_Y_given_X = 0.99                 # Likelihood: test is positive given disease\n",
        "P_Y_given_notX = 0.05              # Likelihood: test is positive without disease\n",
        "\n",
        "# TODO: compute P_notX\n",
        "P_notX = 1 - P_X\n",
        "\n",
        "# TODO: compute marginal probability P(Y)\n",
        "P_Y = P_Y_given_X * P_X + P_Y_given_notX * P_notX\n",
        "\n",
        "# TODO: compute posterior probability using Bayes' Rule\n",
        "P_X_given_Y = P_Y_given_X * P_X / P_Y\n",
        "\n",
        "print(f\"P(X|Y) = {P_X_given_Y:.3f}\")\n"
      ],
      "metadata": {
        "colab": {
          "base_uri": "https://localhost:8080/"
        },
        "id": "pRNNVn-niFxy",
        "outputId": "36cce198-fb01-483b-fe3a-13f3fa6554c6"
      },
      "execution_count": null,
      "outputs": [
        {
          "output_type": "stream",
          "name": "stdout",
          "text": [
            "P(X|Y) = 0.167\n"
          ]
        }
      ]
    },
    {
      "cell_type": "markdown",
      "source": [
        "### Likelihood and Maximum Likelihood\n"
      ],
      "metadata": {
        "id": "pEmNIIlGvaEB"
      }
    },
    {
      "cell_type": "markdown",
      "source": [
        "The **likelihood function** measures how well a statistical model explains observed data  ([source](https://en.wikipedia.org/wiki/Likelihood_function)).\n",
        "\n",
        "Informally, it tells us how *likely* it is to observe the data we have, under different assumptions about model parameters.\n",
        "\n",
        "\n",
        "\n",
        "#### **Formal Definition**\n",
        "\n",
        "Given data $X = x$ and a probabilistic model parameterized by $\\theta$, the **likelihood function** is:\n",
        "\n",
        "$$\n",
        "L(\\theta) = P_\\theta(X = x)\n",
        "$$\n",
        "\n",
        "This is the joint probability (or density) of the observed data, viewed as a function of $\\theta$ (with $x$ fixed).\n",
        "\n",
        "\n",
        "#### **Example: Binomial Coin Flips**\n",
        "\n",
        "Suppose we observe $X = 7$ heads in $n = 10$ coin flips. Let the model be $X \\sim \\text{Binomial}(n = 10, p)$ where $p$ is the unknown probability of heads.\n",
        "\n",
        "The likelihood function is:\n",
        "\n",
        "$$\n",
        "L(p) = \\binom{10}{7} p^7 (1 - p)^3\n",
        "$$\n",
        "\n",
        "Note: This is **not** a probability distribution over $p$, since $p$ is not a random variable—it's a parameter.\n",
        "\n",
        "\n",
        "\n",
        "#### **Maximum Likelihood Estimation (MLE)**\n",
        "\n",
        "To fit the model, we seek the value of $\\theta$ that **maximizes** the likelihood $L(\\theta)$, or equivalently the **log-likelihood**:\n",
        "\n",
        "$$\n",
        "\\ell(\\theta) = \\log L(\\theta) = \\log P_\\theta(X = x)\n",
        "$$\n",
        "\n",
        "In the coin flip example:\n",
        "\n",
        "$$\n",
        "\\ell(p) = \\log \\binom{10}{7} + 7 \\log p + 3 \\log(1 - p)\n",
        "$$\n",
        "\n",
        "Maximizing $\\ell(p)$ by differentiation:\n",
        "\n",
        "$$\n",
        "\\frac{d\\ell(p)}{dp} = \\frac{7}{p} - \\frac{3}{1 - p}\n",
        "$$\n",
        "\n",
        "Setting to zero and solving:\n",
        "\n",
        "$$\n",
        "\\frac{7}{p} = \\frac{3}{1 - p} \\Rightarrow 7(1 - p) = 3p \\Rightarrow 7 - 7p = 3p \\Rightarrow 10p = 7 \\Rightarrow p = \\frac{7}{10} = 0.7\n",
        "$$\n",
        "\n",
        "This value of $p$ maximizes the likelihood—it is the **MLE**.\n",
        "\n",
        "\n",
        "#### **Why Log-Likelihood?**\n",
        "\n",
        "- Simplifies computation: products become sums\n",
        "- Same maximizer: $\\log$ is strictly increasing\n",
        "- More numerically stable, especially with many data points\n",
        "\n",
        "MLE is widely used in generative modeling and statistical inference due to its simplicity and effectiveness.\n"
      ],
      "metadata": {
        "id": "KPhHiwMQpU51"
      }
    },
    {
      "cell_type": "markdown",
      "source": [
        "#### Code Task"
      ],
      "metadata": {
        "id": "Yi47PRTgkH43"
      }
    },
    {
      "cell_type": "code",
      "source": [
        "import jax.numpy as jnp\n",
        "\n",
        "# Likelihood of seeing k heads in n flips as a function of p:\n",
        "def coin_log_likelihood(p, n=10, k=7):\n",
        "    # binomial coefficient is constant w.rt p, so we can omit it for argmax\n",
        "    return k * jnp.log(p) + (n-k) * jnp.log(1-p)\n",
        "\n",
        "# Evaluate log-likelihood on a grid of p values\n",
        "p_vals = jnp.linspace(0, 1, 101)\n",
        "ll_vals = coin_log_likelihood(p_vals)\n",
        "# Find p that maximizes it\n",
        "best_p = p_vals[jnp.argmax(ll_vals)]\n",
        "print(\"MLE for p is\", float(best_p))\n"
      ],
      "metadata": {
        "colab": {
          "base_uri": "https://localhost:8080/"
        },
        "id": "83yJXOIGqU-G",
        "outputId": "9784ef67-d105-46c5-e94b-96607719aa66"
      },
      "execution_count": null,
      "outputs": [
        {
          "output_type": "stream",
          "name": "stdout",
          "text": [
            "MLE for p is 0.699999988079071\n"
          ]
        }
      ]
    },
    {
      "cell_type": "markdown",
      "source": [
        "### Evidence Lower Bound (ELBO)"
      ],
      "metadata": {
        "id": "xs4GXtm6qY4B"
      }
    },
    {
      "cell_type": "markdown",
      "source": [
        "When dealing with **latent variable models**, a central challenge is computing the **marginal likelihood**:\n",
        "\n",
        "$$\n",
        "p(x) = \\int p(x, z) \\, dz \\quad \\text{or} \\quad \\sum_z p(x, z)\n",
        "$$\n",
        "\n",
        "depending on whether $z$ is continuous or discrete.\n",
        "\n",
        "For complex models, this integral (or sum) is often **intractable**.\n",
        "\n",
        "\n",
        "#### **Variational Inference (VI)**\n",
        "\n",
        "**Variational Inference** tackles this by introducing an **approximate posterior** $q(z \\mid x)$ and optimizing a lower bound on the log-likelihood, called the **Evidence Lower Bound (ELBO)**  ([source](https://en.wikipedia.org/wiki/Evidence_lower_bound)).\n",
        "\n",
        "We aim to approximate $\\log p(x)$ without computing $p(x)$ directly.\n",
        "\n",
        "\n",
        "#### **ELBO Definition**\n",
        "\n",
        "For a given datapoint $x$ and variational posterior $q(z \\mid x)$, the ELBO is:\n",
        "\n",
        "$$\n",
        "\\text{ELBO}(x) = \\mathbb{E}_{z \\sim q(z \\mid x)} \\left[ \\log p(x, z) - \\log q(z \\mid x) \\right]\n",
        "$$\n",
        "\n",
        "\n",
        "#### **ELBO and KL Divergence**\n",
        "\n",
        "Using the identity:\n",
        "\n",
        "$$\n",
        "\\text{ELBO}(x) = \\log p(x) - D_{\\mathrm{KL}} \\left( q(z \\mid x) \\,\\|\\, p(z \\mid x) \\right)\n",
        "$$\n",
        "\n",
        "Since KL divergence is always non-negative:\n",
        "\n",
        "$$\n",
        "\\text{ELBO}(x) \\leq \\log p(x)\n",
        "$$\n",
        "\n",
        "The bound is **tight** (i.e., ELBO equals $\\log p(x)$) *if and only if* $q(z \\mid x) = p(z \\mid x)$.\n",
        "\n",
        "\n",
        "#### **Optimization Goal**\n",
        "\n",
        "Variational inference proceeds by **maximizing the ELBO**:\n",
        "\n",
        "- This indirectly maximizes $\\log p(x)$.\n",
        "- It pulls $q(z \\mid x)$ closer to the true posterior $p(z \\mid x)$.\n",
        "- It avoids direct marginalization over $z$.\n",
        "\n",
        "This principle is foundational in models like **Variational Autoencoders (VAEs)**.\n"
      ],
      "metadata": {
        "id": "CAnCHYyfqy5W"
      }
    },
    {
      "cell_type": "markdown",
      "source": [
        "### 1.4 Families of Generative Models"
      ],
      "metadata": {
        "id": "fIcHM7N6qURz"
      }
    },
    {
      "cell_type": "markdown",
      "source": [
        "Generative models are unsupervised learning models that learn a data distribution and can generate new samples from it. There are several families of deep generative models, each with different assumptions and training objectives. In these tutorials, we will explore major generative model families, highlighting their intuition, mathematical foundations, and simple JAX-based examples for each:\n",
        "\n",
        "\n",
        "*   **Explicit Likelihood Models**: Models that directly maximize the likelihood of the data. We cover flow-based models and autoregressive models.\n",
        "*   **Latent-Variable Model**s: Models with latent variables that optimize a proxy for likelihood. We cover Variational Autoencoders (VAEs).\n",
        "*   **Implicit Models**: Models that do not explicitly define a probability density, but can generate samples. We cover Generative Adversarial Networks (GANs).\n",
        "*   **Stochastic Mapping Models**: Models that use a stochastic process (diffusion) to map between simple and complex distributions. We cover Diffusion models.\n",
        "* **Continuous Flow Models**: Models based on continuous-time transformations (neural ODEs). We cover Continuous Normalizing Flows (CNFs) and the emerging Flow Matching technique.\n",
        "\n",
        "In this tutorial, we will focus on GANs and VAEs.\n"
      ],
      "metadata": {
        "id": "lM1f01s2rWpc"
      }
    },
    {
      "cell_type": "markdown",
      "source": [
        "In the sections that follow, our objective is to build your intuition for these models through three complementary perspectives:\n",
        "\n",
        "1. **Conceptual Overview** : an intuitive, high-level explanation  \n",
        "2. **Mathematical Formulation** : the core equations and theory  \n",
        "3. **Illustrative Code** : concise, example implementations  \n",
        "\n",
        "Choose the perspective that best suits your learning style. Don’t worry if you don’t master every detail right away; in-depth, practical online sessions for each model will be scheduled later. Now is the time to explore and develop your intuition.\n"
      ],
      "metadata": {
        "id": "xFXMSrsN0wkw"
      }
    },
    {
      "cell_type": "markdown",
      "source": [
        "### Explicit Likelihood Models"
      ],
      "metadata": {
        "id": "KfcMEG3HDFKi"
      }
    },
    {
      "cell_type": "markdown",
      "source": [
        "Explicit likelihood generative models define a tractable probability distribution for the data and train by maximizing the data's log-likelihood. In other words, they provide a way to compute $p_\\theta(x)$ explicitly and can thus be directly trained via maximum likelihood estimation (MLE). Two prominent sub-families are flow-based models and autoregressive models."
      ],
      "metadata": {
        "id": "N9SGEvK_DM09"
      }
    },
    {
      "cell_type": "markdown",
      "source": [
        "#### **Flow-based Models (Normalizing Flows)**"
      ],
      "metadata": {
        "id": "HDb5yUY6DaSe"
      }
    },
    {
      "cell_type": "markdown",
      "source": [
        "##### **Intuition**"
      ],
      "metadata": {
        "id": "ks-mvyV1FEZA"
      }
    },
    {
      "cell_type": "markdown",
      "source": [
        "Flow-based generative models (a.k.a. normalizing flows) learn an invertible transformation $f$ (with invertible neural network layers) that maps a simple base distribution (e.g. a standard Gaussian) to the data distribution. By chaining a series of invertible transformations (\"flow\" layers), complex data distributions can be modeled while maintaining a tractable likelihood. The key advantage of flows is that they allow exact and efficient computation of both sample generation (by applying $f$) and data likelihood (by applying $f^{-1}$ and the change-of-variables formula)."
      ],
      "metadata": {
        "id": "qHIkl3oJDeSO"
      }
    },
    {
      "cell_type": "markdown",
      "source": [
        "##### Mathematical Principle"
      ],
      "metadata": {
        "id": "IepPOu0CEAEb"
      }
    },
    {
      "cell_type": "markdown",
      "source": [
        "If $z$ is a latent variable with a simple density $p_Z(z)$ (e.g. Gaussian) and $x = f(z)$ is the transformed data, then by the change of variables formula the data density is:\n",
        "\n",
        "$$\n",
        "p_X(x) = p_Z(z) \\left| \\det \\left( \\frac{\\partial z}{\\partial x} \\right) \\right|\n",
        "= p_Z(f^{-1}(x)) \\left| \\det \\left( \\frac{\\partial f^{-1}}{\\partial x} \\right) \\right|.\n",
        "$$\n",
        "\n",
        "The equivalent expression in **log-density** form is:\n",
        "\n",
        "$$\n",
        "\\log p_\\theta(x) = \\log p_Z(z) - \\log \\left| \\det \\left( \\frac{\\partial f}{\\partial z}(z) \\right) \\right|,\n",
        "\\quad \\text{where } z = f^{-1}(x).\n",
        "$$\n",
        "\n",
        "Here $\\det \\frac{\\partial f}{\\partial z}$ is the Jacobian determinant of the transform $f$. Because $f$ is invertible and differentiable, we can compute this determinant. Training a flow model means adjusting $f_\\theta$ (with parameters $\\theta$) to maximize $\\log p_\\theta(x)$ for training data $x$. In practice, flow-based models use carefully designed layers (e.g. coupling layers, autoregressive layers) that make the Jacobian triangular or tractable to compute. Notable examples include RealNVP, Glow (for images), etc., which stack invertible affine transformations. Flows are explicit likelihood models since they directly maximize the exact data likelihood.\n"
      ],
      "metadata": {
        "id": "0rbsPluUFNVh"
      }
    },
    {
      "cell_type": "markdown",
      "source": [
        "##### Simple case : Affine Normalizing Flow"
      ],
      "metadata": {
        "id": "QdUW7ViUHtZ2"
      }
    },
    {
      "cell_type": "markdown",
      "source": [
        "Given a base distribution $z \\sim \\mathcal{N}(0, I)$ in $\\mathbb{R}^2$, and an **affine transformation**:\n",
        "\n",
        "$$\n",
        "f(z) = a \\odot z + b\n",
        "$$\n",
        "\n",
        "where $a \\in \\mathbb{R}^2$ is a non-zero scale vector and $b \\in \\mathbb{R}^2$ is a shift, the transformed variable is:\n",
        "\n",
        "$$\n",
        "y = f(z)\n",
        "$$\n",
        "\n",
        "The density of $y$ can be computed using the change-of-variable formula:\n",
        "\n",
        "$$\n",
        "p_Y(y) = p_Z(f^{-1}(y)) \\cdot \\left| \\det \\left( \\frac{\\partial f^{-1}}{\\partial y} \\right) \\right|\n",
        "$$\n",
        "\n",
        "Since $f$ is affine, the Jacobian is diagonal with entries $a_i$, so:\n",
        "\n",
        "$$\n",
        "\\log p_Y(y) = \\log p_Z(z) - \\sum_{i=1}^2 \\log |a_i|\n",
        "$$\n",
        "\n",
        "where $z = f^{-1}(y) = (y - b)/ a$\n",
        "\n",
        "\n",
        "We sample from the base distribution and transform it, then compare:\n",
        "\n",
        "1. **Histogram** of transformed samples\n",
        "2. **Analytical** density $p_Y(y)$"
      ],
      "metadata": {
        "id": "wxyEQDbRH3Am"
      }
    },
    {
      "cell_type": "code",
      "source": [
        "# 1) Sample from base and apply affine flow using NumPy\n",
        "np.random.seed(0)\n",
        "n_samples = 1000\n",
        "z = np.random.randn(n_samples, 2)           # z ~ N(0, I)\n",
        "a = np.array([2.0, 0.7])\n",
        "b = np.array([1.0, -1.0])\n",
        "y = z * a + b                                # y in R²\n",
        " Overview of Generative Models\n",
        "# 2) Compute analytic PDF on a grid\n",
        "nx, ny = 100, 100\n",
        "x_min, x_max = y[:,0].min() - 1, y[:,0].max() + 1\n",
        "y_min, y_max = y[:,1].min() - 1, y[:,1].max() + 1\n",
        "x_grid = np.linspace(x_min, x_max, nx)\n",
        "y_grid = np.linspace(y_min, y_max, ny)\n",
        "Xg, Yg = np.meshgrid(x_grid, y_grid)\n",
        "\n",
        "Z_inv = np.stack([ (Xg - b[0]) / a[0],\n",
        "                   (Yg - b[1]) / a[1] ], axis=-1)\n",
        "log_pz = -0.5 * np.sum(Z_inv**2, axis=-1) - (Z_inv.shape[-1]/2)*np.log(2*np.pi)\n",
        "log_det = np.sum(np.log(np.abs(a)))\n",
        "pdf_grid = np.exp(log_pz - log_det)\n",
        "\n",
        "# 3) Plot scatter + analytical PDF contours\n",
        "plt.figure(figsize=(8, 6))\n",
        "\n",
        "sc = plt.scatter(y[:, 0], y[:, 1], s=5, alpha=0.3, color='C0')\n",
        "cs = plt.contour(Xg, Yg, pdf_grid, levels=10, colors='red', linewidths=2)\n",
        "plt.clabel(cs, inline=True, fmt=\"%.2f\")\n",
        "\n",
        "plt.title(\"Samples vs Analytical PDF Contours\")\n",
        "plt.xlabel(\"y[0]\")\n",
        "plt.ylabel(\"y[1]\")\n",
        "\n",
        "# Create proxy artists for legend\n",
        "legend_handles = [\n",
        "    Line2D([0], [0], marker='o', color='C0', linestyle='None', markersize=6, label='Samples'),\n",
        "    Line2D([0], [0], color='red', lw=2, label='Analytical PDF')\n",
        "]\n",
        "plt.legend(handles=legend_handles, loc='upper right')\n",
        "\n",
        "plt.grid(True)\n",
        "plt.show()\n"
      ],
      "metadata": {
        "colab": {
          "base_uri": "https://localhost:8080/",
          "height": 564
        },
        "id": "eLihPg6sIOKa",
        "outputId": "928f9b9d-ea9a-4d6a-ba43-9f73cdb27157"
      },
      "execution_count": null,
      "outputs": [
        {
          "output_type": "display_data",
          "data": {
            "text/plain": [
              "<Figure size 800x600 with 1 Axes>"
            ],
            "image/png": "[encoded data removed]"
          },
          "metadata": {}
        }
      ]
    },
    {
      "cell_type": "markdown",
      "source": [
        "#### **Autoregressive Models**"
      ],
      "metadata": {
        "id": "BJkomFxiL8fT"
      }
    },
    {
      "cell_type": "markdown",
      "source": [
        "##### Intuition"
      ],
      "metadata": {
        "id": "-vGArjdoMBA4"
      }
    },
    {
      "cell_type": "markdown",
      "source": [
        "Autoregressive models explicitly factorize the joint distribution of data into a product of conditional distributions using the probability chain rule. They generate data one element at a time, each step conditioned on all previously generated elements.\n",
        "\n",
        "For an $n$-dimensional data point $(x_1, x_2, \\dots, x_n)$ (e.g.\\ pixels in an image), an autoregressive model defines:\n",
        "\n",
        "$$\n",
        "p(x_1, x_2, \\dots, x_n)\n",
        "= \\prod_{i=1}^{n} p\\bigl(x_i \\,\\bigm|\\, x_1, x_2, \\dots, x_{i-1}\\bigr).\n",
        "$$\n",
        "\n",
        "Each conditional density $p(x_i \\mid x_{<i})$ is modeled by a neural network that has access only to the previous inputs.\n",
        "\n",
        "Because of this factorization, autoregressive models are **explicit likelihood** models: the joint likelihood\n",
        "$$\n",
        "p(x_{1:n})\n",
        "$$\n",
        "can be computed exactly by multiplying (or summing log-probabilities) of the conditionals, enabling direct **maximum likelihood estimation (MLE)** training."
      ],
      "metadata": {
        "id": "T4QV6CgDMfE4"
      }
    },
    {
      "cell_type": "markdown",
      "source": [
        "##### Mathematical Principle"
      ],
      "metadata": {
        "id": "N2rsfSCUM4tT"
      }
    },
    {
      "cell_type": "markdown",
      "source": [
        "Maximize the exact data log-likelihood, which decomposes as:\n",
        "\n",
        "$$\n",
        "L_{\\mathrm{AR}}\n",
        "= \\mathbb{E}_{x \\sim \\text{data}}\n",
        "\\sum_{i=1}^{n}\n",
        "\\log p_{\\theta}\\bigl(x_{i} \\mid x_{1:i-1}\\bigr).\n",
        "$$\n",
        "\n",
        "Each term is the log-probability assigned to the $i$-th element given the previous ones. The model (e.g.\\ a neural network) outputs a predictive distribution for $x_i$ (for discrete $x_i$, typically a softmax over possible values or a parameterized distribution). Training uses gradient descent on this objective, which is just maximum likelihood.\n"
      ],
      "metadata": {
        "id": "4WdHKimiM5g-"
      }
    },
    {
      "cell_type": "markdown",
      "source": [
        "##### Code Task"
      ],
      "metadata": {
        "id": "vVEGixWwnumm"
      }
    },
    {
      "cell_type": "code",
      "source": [
        "key = jax.random.PRNGKey(1)\n",
        "\n",
        "# Length of sequence to generate\n",
        "N = 5\n",
        "x = jnp.zeros(N)\n",
        "\n",
        "# Sample the first element from N(0,1)\n",
        "key, subkey = jax.random.split(key)\n",
        "x = x.at[0].set(jax.random.normal(subkey))\n",
        "\n",
        "# Sequentially sample each subsequent x[i] given x[i-1]\n",
        "for i in range(1, N):\n",
        "    key, subkey = jax.random.split(key)\n",
        "    prev = x[i-1]\n",
        "    # Define conditional mean as 0.5 * previous value (just a simple linear dependency)\n",
        "    cond_mean = 0.5 * prev\n",
        "    # Sample x_i ~ N(mean=0.5*x_{i-1}, variance=1)\n",
        "    x = x.at[i].set(cond_mean + jax.random.normal(subkey))\n",
        "\n",
        "print(\"Generated sequence from autoregressive model:\", x)\n"
      ],
      "metadata": {
        "colab": {
          "base_uri": "https://localhost:8080/"
        },
        "id": "nDTXdQyPNsU4",
        "outputId": "30a310ae-4587-4bf6-abed-52c28746fb4a"
      },
      "execution_count": null,
      "outputs": [
        {
          "output_type": "stream",
          "name": "stdout",
          "text": [
            "Generated sequence from autoregressive model: [-0.24392003  0.8257915   0.52243686  0.99321586 -0.99770904]\n"
          ]
        }
      ]
    },
    {
      "cell_type": "markdown",
      "source": [
        "In this code, we manually defined a simple autoregressive process. We start with $x_0 \\sim \\mathcal{N}(0,1)$. Then for each new index $i$, we sample $x_i$ from a normal distribution whose mean is 0.5 * x[i-1]. The result x is one sample from the joint distribution implicitly defined by this process."
      ],
      "metadata": {
        "id": "2tq1ZphOOAS1"
      }
    },
    {
      "cell_type": "markdown",
      "source": [
        "### Latent-Variable Models"
      ],
      "metadata": {
        "id": "0dbc3FZUOBsU"
      }
    },
    {
      "cell_type": "markdown",
      "source": [
        "Latent-variable generative models assume that each observed data point $x$ is generated from an underlying (unobserved) latent variable $z$. They define a joint distribution $p_\\theta(x,z) = p(z),p_\\theta(x|z)$, where $p(z)$ is a prior over latent space (usually simple like $\\mathcal{N}(0,I)$) and $p_\\theta(x|z)$ (the decoder) is a deep network that outputs a distribution for $x$ given $z$. This introduces flexibility: by integrating over $z$, we obtain the model's marginal likelihood $p_\\theta(x) = \\int p(z),p_\\theta(x|z),dz$. However, this integral is often intractable to compute or differentiate directly if $z$ is high-dimensional and $p_\\theta(x|z)$ is complex. Variational Autoencoders (VAEs) address this by optimizing a lower bound on the log-likelihood using an approximate inference model (encoder). VAEs are explicit density models in the sense that they aim to model $p(x)$, but they do so via an approximate objective because the likelihood involves an intractable integral."
      ],
      "metadata": {
        "id": "xl8h92c1Qnai"
      }
    },
    {
      "cell_type": "markdown",
      "source": [
        "#### Variational Autoencoders (VAEs)"
      ],
      "metadata": {
        "id": "1gXcW0OzQqRB"
      }
    },
    {
      "cell_type": "markdown",
      "source": [
        "##### Intuition"
      ],
      "metadata": {
        "id": "OAbXtWA9QwDC"
      }
    },
    {
      "cell_type": "markdown",
      "source": [
        "A VAE consists of two parts:\n",
        "*   Encoder (Inference Network) $q_\\phi(z|x)$: a neural network that takes an input\n",
        "$x$ and produces a distribution over latent code $z$ (often Gaussian). This is also called the recognition or posterior model. $\\phi$ denotes the encoder parameters.\n",
        "*   Decoder (Generative Network) $p_\\theta(x|z)$: a neural network that takes a latent $z$ and outputs a distribution for $x$ (e.g. parameters of a Gaussian or Bernoulli over data). $\\theta$ denotes the decoder parameters.\n",
        "\n",
        "The encoder and decoder are trained jointly. The encoder serves to approximate the true posterior $p_\\theta(z|x)$, which is intractable to compute exactly. The VAE training objective is to maximize the evidence lower bound (ELBO) on the log-likelihood of the data. This circumvents direct likelihood maximization by optimizing a surrogate objective that is easier to compute."
      ],
      "metadata": {
        "id": "ek_59YgEQ3jv"
      }
    },
    {
      "cell_type": "markdown",
      "source": [
        "##### Mathematical Principle"
      ],
      "metadata": {
        "id": "2oT1oFpJREK6"
      }
    },
    {
      "cell_type": "markdown",
      "source": [
        "For a given data point $x$, the ELBO is:\n",
        "\n",
        "$$\n",
        "\\mathcal{L}(\\theta, \\phi; x)\n",
        "= \\mathbb{E}_{z \\sim q_\\phi(z \\mid x)}\\bigl[\\log p_\\theta(x \\mid z)\\bigr]\n",
        "- D_{\\mathrm{KL}}\\bigl(q_\\phi(z \\mid x)\\,\\|\\,p(z)\\bigr).\n",
        "$$\n",
        "\n",
        "\n",
        "\n",
        "In the ELBO:\n",
        "- The first term $\\mathbb{E}_{z \\sim q_\\phi(z \\mid x)}[\\log p_\\theta(x \\mid z)]$ is a **reconstruction term**: it measures how well the decoder reconstructs $x$ from latent samples $z$ drawn from the encoder.\n",
        "- The second term $D_{\\mathrm{KL}}(q_\\phi(z \\mid x)\\,\\|\\,p(z))$ is a **regularizer**: it keeps the encoder’s posterior close to the prior $p(z)$, preventing overfitting by encoding too much information in $z$.\n",
        "\n",
        "In practice, $p(z)$ is often chosen as $\\mathcal{N}(0, I)$, and $q_\\phi(z \\mid x)$ is modeled as a Gaussian with mean $\\mu_\\phi(x)$ and diagonal covariance $\\Sigma_\\phi(x)$ predicted by the encoder."
      ],
      "metadata": {
        "id": "3mx2lKm6RKLn"
      }
    },
    {
      "cell_type": "markdown",
      "source": [
        "### Implicit Models"
      ],
      "metadata": {
        "id": "vgOYrATTSru8"
      }
    },
    {
      "cell_type": "markdown",
      "source": [
        "#### Generative Adversarial Networks (GANs)"
      ],
      "metadata": {
        "id": "RqaLkQiBS3t3"
      }
    },
    {
      "cell_type": "markdown",
      "source": [
        "##### Intuition"
      ],
      "metadata": {
        "id": "7K0hf36TS78R"
      }
    },
    {
      "cell_type": "markdown",
      "source": [
        "A GAN’s generator $G(z)$ takes a random input $z$ (usually $z \\sim \\mathcal{N}(0,I)$ or Uniform[0,1]) and maps it to a synthetic data sample $G(z)$. The discriminator $D(x)$ outputs a probability (or logit) that $x$ is real (from the training data) versus fake (from $G$). Training is a two-player minimax game: $D$ is trained to better discriminate real vs fake, while $G$ is simultaneously trained to fool $D$. At equilibrium, if the generator succeeds, the generated samples are distributed like the real data, and the discriminator is no better than random guessing (output $0.5$ for real/fake)."
      ],
      "metadata": {
        "id": "b-NzhmU6TGoL"
      }
    },
    {
      "cell_type": "markdown",
      "source": [
        "##### Mathematical Principle"
      ],
      "metadata": {
        "id": "TRzXr4itTIJ5"
      }
    },
    {
      "cell_type": "markdown",
      "source": [
        "The original GAN paper (Goodfellow et al. 2014) used the minimax objective:\n",
        "\n",
        "$$\n",
        "\\min_{G}\\;\\max_{D}\\;V(D,G)\n",
        "= \\mathbb{E}_{x \\sim p_{\\mathrm{data}}(x)}\\bigl[\\log D(x)\\bigr]\n",
        "\\;+\\;\n",
        "\\mathbb{E}_{z \\sim p(z)}\\bigl[\\log\\bigl(1 - D(G(z))\\bigr)\\bigr].\n",
        "$$\n",
        "\n",
        "\n",
        "This value function $V(D,G)$ encapsulates the two competing goals:\n",
        "*  The discriminator $D$ tries to maximize this objective: it gets higher reward when it confidently classifies real data $x$ as real ($D(x) \\approx 1 \\implies \\log D(x)$ large) and fake samples $G(z)$ as fake ($D(G(z)) \\approx 0 \\implies \\log(1-D(G(z)))$ large).\n",
        "*  The generator $G$ tries to minimize this objective: it can only affect the second term, and it benefits when $D(G(z))$ is pushed closer to 1 (so that $\\log(1-D(G(z)))$ is low). In practice, one often uses the non-saturating variant of the loss for $G$, maximizing $\\mathbb{E}_z [\\log D(G(z))]$, for better gradients.\n",
        "\n",
        "GAN training typically alternates gradient descent on $D$ and $G$. If $D$ is too strong, $G$ gets no signal; if $G$ becomes too good, $D$ might be fooled completely. Achieving stability is tricky. When successful, GANs can produce very sharp and realistic samples (especially in image generation). However, because GANs do not explicitly model $p(x)$, it's hard to evaluate their performance by likelihood; instead metrics like Inception Score or FID are used. GANs may also suffer from mode collapse (producing limited diversity)."
      ],
      "metadata": {
        "id": "4Onjyd5nTOde"
      }
    },
    {
      "cell_type": "markdown",
      "source": [
        "### TODO add simple GAN or VAE model walkthrough"
      ],
      "metadata": {
        "id": "XqcW89-Y1nX1"
      }
    },
    {
      "cell_type": "markdown",
      "metadata": {
        "id": "o1ndpYE50BpG"
      },
      "source": [
        "## Feedback\n",
        "\n",
        "Please provide feedback that we can use to improve our practicals in the future."
      ]
    },
    {
      "cell_type": "code",
      "execution_count": null,
      "metadata": {
        "id": "OIZvkhfRz9Jz"
      },
      "outputs": [],
      "source": [
        "# @title Generate Feedback Form. (Run Cell)\n",
        "from IPython.display import HTML\n",
        "\n",
        "HTML(\n",
        "    \"\"\"\n",
        "<iframe\n",
        "\tsrc=\"https://forms.gle/WUpRupqfhFtbLXtN6\",\n",
        "  width=\"80%\"\n",
        "\theight=\"1200px\" >\n",
        "\tLoading...\n",
        "</iframe>\n",
        "\"\"\"\n",
        ")"
      ]
    },
    {
      "cell_type": "code",
      "source": [],
      "metadata": {
        "id": "c7enfAaBCy_E"
      },
      "execution_count": null,
      "outputs": []
    },
    {
      "cell_type": "markdown",
      "metadata": {
        "id": "oglV4kHMWnIN"
      },
      "source": [
        "<img src=\"https://baobab.deeplearningindaba.com/static/media/indaba-logo-dark.d5a6196d.png\" width=\"50%\" />"
      ]
    }
  ],
  "metadata": {
    "accelerator": "TPU",
    "colab": {
      "collapsed_sections": [
        "6EqhIg1odqg0",
        "IZfLaaQAR6-X",
        "G83jEj9gR6-X",
        "s8pgDOPLR6-Y",
        "8jMzebCmWgY-",
        "pEmNIIlGvaEB"
      ],
      "provenance": [],
      "gpuType": "V28"
    },
    "kernelspec": {
      "display_name": "Python 3.8.5 ('base')",
      "language": "python",
      "name": "python3"
    },
    "language_info": {
      "name": "python",
      "version": "3.8.5"
    },
    "vscode": {
      "interpreter": {
        "hash": "145833166d986a8417df3c7acb65d917d84b716b5a452e57fcacdc66f1a168c9"
      }
    }
  },
  "nbformat": 4,
  "nbformat_minor": 0
}